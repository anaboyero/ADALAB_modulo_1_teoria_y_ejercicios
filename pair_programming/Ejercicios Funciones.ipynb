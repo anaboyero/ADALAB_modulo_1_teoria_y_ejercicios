{
 "cells": [
  {
   "cell_type": "markdown",
   "metadata": {},
   "source": [
    "Pair programming Funciones"
   ]
  },
  {
   "cell_type": "markdown",
   "metadata": {},
   "source": [
    "Calcular el área de un círculo.\n",
    "\n",
    "Descripción: Crea una función llamada calcular_area_circulo que tome el radio como parámetro y devuelva el área del círculo."
   ]
  },
  {
   "cell_type": "code",
   "execution_count": 2,
   "metadata": {},
   "outputs": [
    {
     "name": "stdout",
     "output_type": "stream",
     "text": [
      "El área de un círculo de radio es 28.26 unidades cuadradas\n"
     ]
    }
   ],
   "source": [
    "def calcular_area_circulo (radio):\n",
    "    PI = 3.14\n",
    "    return PI*(radio**2)\n",
    "\n",
    "area3 = calcular_area_circulo(3)\n",
    "print(f\"El área de un círculo de radio es {area3} unidades cuadradas\")"
   ]
  },
  {
   "cell_type": "markdown",
   "metadata": {},
   "source": [
    "Contar la cantidad de caracteres en una cadena.\n",
    "\n",
    "Descripción: Crea una función llamada contar_caracteres que tome una cadena como parámetro y devuelva la cantidad de caracteres que contiene."
   ]
  },
  {
   "cell_type": "markdown",
   "metadata": {},
   "source": [
    "\n",
    "Determinar si una cadena es un palíndromo.\n",
    "\n",
    "Descripción: Crea una función llamada es_palindromo que tome una cadena como parámetro y devuelva True si es un palíndromo, o False si no lo es.\n",
    "\n",
    "¿Qué es un palíndromo?."
   ]
  },
  {
   "cell_type": "code",
   "execution_count": 3,
   "metadata": {},
   "outputs": [
    {
     "name": "stdout",
     "output_type": "stream",
     "text": [
      "En la cadena pasada hay 14 caracteres\n"
     ]
    }
   ],
   "source": [
    "def contar_caracteres (cadena):\n",
    "    return len(cadena)\n",
    "\n",
    "caracteres = contar_caracteres (\"Soy una cadena\") #14 caracteres \n",
    "print(f\"En la cadena pasada hay {caracteres} caracteres\")"
   ]
  },
  {
   "cell_type": "markdown",
   "metadata": {},
   "source": [
    "\n",
    "Calcular el promedio de una lista de números.\n",
    "\n",
    "Descripción: Crea una función llamada calcular_promedio que tome una lista de números como parámetro y devuelva el promedio de todos sus elementos."
   ]
  },
  {
   "cell_type": "code",
   "execution_count": 9,
   "metadata": {},
   "outputs": [
    {
     "name": "stdout",
     "output_type": "stream",
     "text": [
      "El promedio de mi lista es 4.5\n"
     ]
    }
   ],
   "source": [
    "def calcular_promedio(numeros):\n",
    "    return sum(numeros)/len(numeros)\n",
    "\n",
    "lista = list(range(10))\n",
    "print(f\"El promedio de mi lista es {calcular_promedio(lista)}\")"
   ]
  },
  {
   "cell_type": "markdown",
   "metadata": {},
   "source": [
    "Calcular el interés compuesto.\n",
    "\n",
    "Descripción: Crea una función llamada calcular_interes_compuesto que tome el capital inicial, la tasa de interés y el número de períodos como parámetros y devuelva el beneficio final después del interés compuesto.\n"
   ]
  },
  {
   "cell_type": "code",
   "execution_count": 12,
   "metadata": {},
   "outputs": [
    {
     "name": "stdout",
     "output_type": "stream",
     "text": [
      "El beneficio de tener 1000 euros al 5% de interés en un periodo de 1 años es: 50.0\n",
      "El beneficio de tener 1000 euros al 5% de interés en un periodo de 5 años es: 276.28156249999984\n",
      "El beneficio de tener 1000 euros al 5% de interés en un periodo de 10 años es: 628.8946267774411\n",
      "El beneficio de tener 1000 euros al 5% de interés en un periodo de 20 años es: 1653.29770514442\n"
     ]
    }
   ],
   "source": [
    "def calcular_interes_compuesto (capital_inicial, tasa_interes, num_periodos):\n",
    "    #La fórmula del interés compuesto es: capital_inicial + capital_inicial*tasa_interes\n",
    "\n",
    "    capital = capital_inicial\n",
    "\n",
    "    if num_periodos >0:\n",
    "        for periodo in range(num_periodos):\n",
    "            capital = capital + capital*(tasa_interes/100)\n",
    "        return capital - capital_inicial\n",
    "    else:\n",
    "        print(\"Ingrese un numero positivo de periodos\")\n",
    "\n",
    "ahorros = 1000\n",
    "tasa = 5 #5% \n",
    "\n",
    "print(f\"El beneficio de tener 1000 euros al 5% de interés en un periodo de 1 años es: {calcular_interes_compuesto(ahorros, tasa, 1)}\")\n",
    "print(f\"El beneficio de tener 1000 euros al 5% de interés en un periodo de 5 años es: {calcular_interes_compuesto(ahorros, tasa, 5)}\")\n",
    "print(f\"El beneficio de tener 1000 euros al 5% de interés en un periodo de 10 años es: {calcular_interes_compuesto(ahorros, tasa, 10)}\")\n",
    "print(f\"El beneficio de tener 1000 euros al 5% de interés en un periodo de 20 años es: {calcular_interes_compuesto(ahorros, tasa, 20)}\")\n",
    "\n",
    "\n",
    "    \n",
    "\n"
   ]
  },
  {
   "cell_type": "markdown",
   "metadata": {},
   "source": [
    "Validar si una palabra es un anagrama de otra.\n",
    "\n",
    "Descripción: Crea una función llamada es_anagrama que tome dos palabras como parámetros y devuelva True si una es un anagrama de la otra, o False si no lo es.\n",
    "\n",
    "¿Qué es un anagrama?."
   ]
  },
  {
   "cell_type": "code",
   "execution_count": 15,
   "metadata": {},
   "outputs": [
    {
     "name": "stdout",
     "output_type": "stream",
     "text": [
      "Cara y arca son anagramas\n",
      "Lacteo y coleta son anagramas\n",
      "SETO y EstO son anagramas\n",
      "toledo y eltodo son anagramas\n",
      "Una letra w no es común a ambas palabras. No son anagramas\n",
      "Una letra e no es común a ambas palabras. No son anagramas\n",
      "True\n",
      "True\n",
      "True\n",
      "True\n",
      "False\n",
      "False\n"
     ]
    }
   ],
   "source": [
    "# Un anagrama es una palabra que resulta de la transposición de todas las letras de otra palabra.\n",
    "# Quiero comprobar si todas las letras de la palabra candidata están en todas las letras de la palabra referencia \n",
    "\n",
    "def is_anagrama(palabra_candidata, palabra_referencia):\n",
    "    letras_referencia = list(palabra_referencia.lower())\n",
    "    for letra in palabra_candidata.lower():\n",
    "      if letra in letras_referencia:\n",
    "        letras_referencia.remove(letra)\n",
    "      else:\n",
    "        print(f\"Una letra {letra} no es común a ambas palabras. No son anagramas\")\n",
    "        return False\n",
    "    if len(letras_referencia)==0: # Todas las letras de la palabra candidata están en la palabra referencia y ya no quedan letras de la  palabra referencia\n",
    "      print(f\"{palabra_candidata} y {palabra_referencia} son anagramas\")\n",
    "      return True\n",
    "\n",
    "r1= is_anagrama(\"Cara\", \"arca\")\n",
    "r2= is_anagrama(\"Lacteo\", \"coleta\")\n",
    "r3= is_anagrama(\"SETO\", \"EstO\")\n",
    "r4= is_anagrama(\"toledo\", \"eltodo\")\n",
    "r5= is_anagrama(\"we\", \"parranda\")\n",
    "r6= is_anagrama(\"weeeee\", \"weeee\")\n",
    "\n",
    "print(r1)\n",
    "print(r2)\n",
    "print(r3)\n",
    "print(r4)\n",
    "print(r5)\n",
    "print(r6)\n"
   ]
  },
  {
   "cell_type": "markdown",
   "metadata": {},
   "source": [
    "Validar si una cadena de texto es un isograma.\n",
    "\n",
    "Descripción: Crea una función llamada es_isograma que tome una cadena de texto como parámetro y devuelva True si es un isograma. En caso contrario, devuelve False.\n",
    "\n",
    "¿Qué es un isograma? Una palabra que no contiene letras repetidas.\n"
   ]
  },
  {
   "cell_type": "code",
   "execution_count": 17,
   "metadata": {},
   "outputs": [
    {
     "name": "stdout",
     "output_type": "stream",
     "text": [
      "False\n",
      "True\n",
      "False\n",
      "False\n",
      "True\n"
     ]
    }
   ],
   "source": [
    "def is_isograma (cadena):\n",
    "    # Comprobamos que no se repiten letras en la cadena ayudándonos de las propiedad de set, que solo admite elementos únicos \n",
    "    cadena=cadena.lower()\n",
    "    if len(set(cadena))==len(cadena):\n",
    "        return True\n",
    "    else:\n",
    "        return False\n",
    "    \n",
    "print(is_isograma (\"arrumaco\"))\n",
    "print(is_isograma (\"arbol\"))\n",
    "print(is_isograma (\"Lol\"))\n",
    "print(is_isograma (\"arrumaco\"))\n",
    "print(is_isograma (\"\"))\n",
    "\n"
   ]
  },
  {
   "cell_type": "markdown",
   "metadata": {},
   "source": [
    "Concatenar múltiples cadenas de texto\n",
    "\n",
    "Descripción: Crea una función llamada concatenar_cadenas que tome una cantidad variable de cadenas de texto como argumentos y devuelva una única cadena que contenga la concatenación de todas las cadenas ingresadas."
   ]
  },
  {
   "cell_type": "code",
   "execution_count": 18,
   "metadata": {},
   "outputs": [
    {
     "name": "stdout",
     "output_type": "stream",
     "text": [
      "La cadena concatenada es Supercalifragilisticoespialidoso\n"
     ]
    }
   ],
   "source": [
    "def concatenar_cadenas (*args):\n",
    "    cadena_concatenada = \"\"\n",
    "    for cadena in args:\n",
    "        cadena_concatenada += cadena\n",
    "    return cadena_concatenada\n",
    "\n",
    "resultado = concatenar_cadenas (\"Super\", \"cali\", \"fragilisti\", \"coespialidoso\")\n",
    "print(f\"La cadena concatenada es {resultado}\")"
   ]
  },
  {
   "cell_type": "markdown",
   "metadata": {},
   "source": [
    "Crear un diccionario con información de una persona.\n",
    "\n",
    "Descripción: Crea una función llamada crear_persona que tome como argumentos clave-valor los datos de una persona, como nombre, edad, ciudad, etc., y devuelva un diccionario con toda la información ingresada."
   ]
  },
  {
   "cell_type": "code",
   "execution_count": 21,
   "metadata": {},
   "outputs": [
    {
     "name": "stdout",
     "output_type": "stream",
     "text": [
      "{'nombre': 'Ana', 'edad': 39, 'altura': 1.65, 'pais': 'España'}\n",
      "{'nombre': 'Carlos', 'edad': 37, 'altura': 1.71, 'pais': 'Portugal'}\n"
     ]
    }
   ],
   "source": [
    "def crear_persona (**kwargs):\n",
    "    diccionario = {}\n",
    "    for clave, valor in kwargs.items():\n",
    "        diccionario[clave] = valor\n",
    "    return diccionario\n",
    "\n",
    "\n",
    "diccionario_ana = crear_persona (nombre = \"Ana\", edad = 39, altura = 1.65, pais = \"España\")\n",
    "print(diccionario_ana)\n",
    "\n",
    "diccionario_carlos = crear_persona (nombre = \"Carlos\", edad = 37, altura = 1.71, pais = \"Portugal\")\n",
    "print(diccionario_carlos)\n"
   ]
  },
  {
   "cell_type": "markdown",
   "metadata": {},
   "source": [
    "Encontrar el número que falta en una lista ordenada de números consecutivos.\n",
    "\n",
    "Descripción: Crea una función llamada encontrar_numero_faltante que tome una lista de números consecutivos (del 1 al N, sin repetir) con un número faltante y devuelva ese número faltante."
   ]
  },
  {
   "cell_type": "code",
   "execution_count": 35,
   "metadata": {},
   "outputs": [
    {
     "name": "stdout",
     "output_type": "stream",
     "text": [
      "El número que falta en la lista1 es: 8\n",
      "El número que falta en la lista2 es: 18\n"
     ]
    }
   ],
   "source": [
    "def encontrar_numero_faltante (lista):\n",
    "    # La diferencia entre la lista pasada por parámetro y un set compuesto por un rango del 1 al N es el número faltante\n",
    "    N = lista[-1] # El último elemento de la lista es el término N\n",
    "    set_completo = set (range(1, N+1))\n",
    "    set_numero_faltante = set_completo.difference(lista)  # El único contenido de la diferencia de ambos conjuntos sets será el número faltante. \n",
    "    return set_numero_faltante.pop() # Lo devuelvo al vaciar el set.\n",
    "\n",
    "lista1 = [1, 2, 3, 4, 5, 6, 7, 9, 10]\n",
    "lista2 = [1, 2, 3, 4, 5, 6, 7, 8, 9, 10, 11, 12, 13, 14, 15, 16, 17, 19, 20, 21, 22, 23, 24, 25]\n",
    "print(f\"El número que falta en la lista1 es: {encontrar_numero_faltante (lista1)}\")\n",
    "print(f\"El número que falta en la lista2 es: {encontrar_numero_faltante (lista2)}\")\n",
    "\n"
   ]
  },
  {
   "cell_type": "markdown",
   "metadata": {},
   "source": [
    "Encontrar el elemento duplicado en una lista de números.\n",
    "\n",
    "Descripción: Crea una función llamada encontrar_duplicado que tome una lista de números enteros y devuelva el elemento que está duplicado en la lista."
   ]
  },
  {
   "cell_type": "code",
   "execution_count": 37,
   "metadata": {},
   "outputs": [
    {
     "name": "stdout",
     "output_type": "stream",
     "text": [
      "El número duplicado de la lista1 es: 7\n"
     ]
    }
   ],
   "source": [
    "def encontrar_duplicado (lista_numeros):\n",
    "    # Usando las propiedades de los sets identifico los números que aparecen una vez en la lista.\n",
    "    # Elimino de mi lista los números que ya han aparecido una vez, dejando como único elemento de la lista al término repetido.\n",
    "    numeros_sin_repetir = set(lista_numeros)\n",
    "    for numero in numeros_sin_repetir:\n",
    "        lista_numeros.remove(numero) \n",
    "    return lista_numeros[0]\n",
    "\n",
    "lista1 = [1, 2, 3, 4, 5, 6, 7, 7, 9, 10]\n",
    "print(f\"El número duplicado de la lista1 es: {encontrar_duplicado(lista1)}\")\n",
    "    "
   ]
  }
 ],
 "metadata": {
  "kernelspec": {
   "display_name": "base",
   "language": "python",
   "name": "python3"
  },
  "language_info": {
   "codemirror_mode": {
    "name": "ipython",
    "version": 3
   },
   "file_extension": ".py",
   "mimetype": "text/x-python",
   "name": "python",
   "nbconvert_exporter": "python",
   "pygments_lexer": "ipython3",
   "version": "3.12.4"
  }
 },
 "nbformat": 4,
 "nbformat_minor": 2
}
