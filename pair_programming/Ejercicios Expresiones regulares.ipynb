{
 "cells": [
  {
   "cell_type": "markdown",
   "metadata": {},
   "source": [
    "\n",
    "1. Validar un número de teléfono.\n",
    "\n",
    "Descripción: Verificar si una cadena representa un número de teléfono válido en el formato (XXX) XXX-XXXX.\n",
    "\n",
    "Probad para cada uno de los teléfonos que tenemos en la siguiente lista:\n",
    "\n",
    "telefonos = [\"(123) 456-7890\", \"178 1890-733\", \"(555) 238-1987\", \"(123) 4560-7890\", \"(ABC) 098-1111\"]"
   ]
  },
  {
   "cell_type": "code",
   "execution_count": 3,
   "metadata": {},
   "outputs": [
    {
     "name": "stdout",
     "output_type": "stream",
     "text": [
      "El número (123) 456-7890 corresponde a nuestro formato de teléfono\n",
      "El número 178 1890-733 no está en formato correcto\n",
      "El número (555) 238-1987 corresponde a nuestro formato de teléfono\n",
      "El número (123) 4560-7890 no está en formato correcto\n",
      "El número (ABC) 098-1111 no está en formato correcto\n"
     ]
    }
   ],
   "source": [
    "import re\n",
    "\n",
    "# El formato correcto de teléfono válido es el formato (XXX) XXX-XXXX.\n",
    "\n",
    "telefonos = [\"(123) 456-7890\", \"178 1890-733\", \"(555) 238-1987\", \"(123) 4560-7890\", \"(ABC) 098-1111\"]\n",
    "\n",
    "patron = r\"\\(\\d{3}\\) \\d{3}\\-\\d{4}\"\n",
    "\n",
    "for telefono in telefonos:\n",
    "\n",
    "    if re.match(patron, telefono):\n",
    "        print(f\"El número {telefono} corresponde a nuestro formato de teléfono\")\n",
    "    \n",
    "    else:\n",
    "        print(f\"El número {telefono} no está en formato correcto\")\n"
   ]
  },
  {
   "cell_type": "markdown",
   "metadata": {},
   "source": [
    "2. Buscar todas las direcciones de correo electrónico en un texto.\n",
    "\n",
    "Descripción: Encontrar todas las direcciones de correo electrónico presentes en una cadena de texto.\n",
    "\n",
    "Probad con el siguiente string:\n",
    "\n",
    "texto = \"Mi correo es user@example.com. Contacta conmigo en john.doe@email.com\""
   ]
  },
  {
   "cell_type": "code",
   "execution_count": 5,
   "metadata": {},
   "outputs": [
    {
     "name": "stdout",
     "output_type": "stream",
     "text": [
      " En la cadena texto hemos detectados estos correos electrónicos:\n",
      " ['user@example.com', 'doe@email.com']\n"
     ]
    }
   ],
   "source": [
    "texto = \"Mi correo es user@example.com. Contacta conmigo en john.doe@email.com\"\n",
    "\n",
    "# La expresión \\b me permite busca en los limites de las palabras, así puedo aislar palabras\n",
    "\n",
    "patron = r\"\\b\\w*@\\w*\\.com\"\n",
    " \n",
    "correo = re.findall(patron, texto)\n",
    "\n",
    "print(f\" En la cadena texto hemos detectados estos correos electrónicos:\\n {correo}\")\n",
    "\n"
   ]
  },
  {
   "cell_type": "markdown",
   "metadata": {},
   "source": [
    "3. Validar un código postal.\n",
    "\n",
    "Descripción: Verificar si una cadena representa un código postal válido de 5 dígitos.\n",
    "\n",
    "Probad para cada uno de los códigos postales que tenemos en la siguiente lista:\n",
    "\n",
    "codigos_postales = [\"12345\", \"190037\", \"78409\", \"986449\", \"19305\"]"
   ]
  },
  {
   "cell_type": "code",
   "execution_count": 6,
   "metadata": {},
   "outputs": [
    {
     "name": "stdout",
     "output_type": "stream",
     "text": [
      "12345 está en formato correcto de C.P\n",
      "190037 no está en formato correcto\n",
      "78409 está en formato correcto de C.P\n",
      "986449 no está en formato correcto\n",
      "19305 está en formato correcto de C.P\n"
     ]
    }
   ],
   "source": [
    "codigos_postales = [\"12345\", \"190037\", \"78409\", \"986449\", \"19305\"]\n",
    "\n",
    "patron = r\"^\\d{5}$\"\n",
    "for codigo in codigos_postales:\n",
    "    if re.match(patron, codigo):\n",
    "        print(f\"{codigo} está en formato correcto de C.P\")\n",
    "    else:\n",
    "        print(f\"{codigo} no está en formato correcto\")"
   ]
  },
  {
   "cell_type": "markdown",
   "metadata": {},
   "source": [
    "4. Encontrar todas las palabras que comienzan con una vocal en un texto.\n",
    "\n",
    "Descripción: Encontrar todas las palabras en un texto que comienzan con una vocal (a, e, i, o, u).\n",
    "\n",
    "Probad con el siguiente string:\n",
    "\n",
    "texto = \"El perro está ladrando. Ana tiene una manzana. La casa es grande.\""
   ]
  },
  {
   "cell_type": "code",
   "execution_count": 8,
   "metadata": {},
   "outputs": [
    {
     "name": "stdout",
     "output_type": "stream",
     "text": [
      "En mi cadena he encontrado todas estas palabras que empiezan por vocal: \n",
      " ['El', 'está', 'Ana', 'una', 'es']\n"
     ]
    }
   ],
   "source": [
    "texto = \"El perro está ladrando. Ana tiene una manzana. La casa es grande.\"\n",
    "\n",
    "patron = r\"\\b[AEIOUaeiou]\\w*\\b\"\n",
    "\n",
    "palabras_vocales = re.findall(patron, texto)\n",
    "\n",
    "print(f\"En mi cadena he encontrado todas estas palabras que empiezan por vocal: \\n {palabras_vocales}\")"
   ]
  },
  {
   "cell_type": "markdown",
   "metadata": {},
   "source": [
    "5. Extraer todos los hashtags de un texto.\n",
    "\n",
    "Descripción: Extraer todos los hashtags (#) presentes en una cadena de texto.\n",
    "\n",
    "Probad con el siguiente string:\n",
    "\n",
    "texto = \"Me encanta el #deporte. #FelizViernes a todos. Estoy en la conferencia #Tech2022.\""
   ]
  },
  {
   "cell_type": "code",
   "execution_count": 13,
   "metadata": {},
   "outputs": [
    {
     "name": "stdout",
     "output_type": "stream",
     "text": [
      "Mi lista de hashtags queda: ['#deporte', '#FelizViernes', '#Tech2022']\n"
     ]
    }
   ],
   "source": [
    "texto = \"Me encanta el #deporte. #FelizViernes a todos. Estoy en la conferencia #Tech2022.\"\n",
    "\n",
    "patron = r\"#\\w*\"\n",
    "\n",
    "hashtags = re.findall(patron, texto)\n",
    "\n",
    "print(f\"Mi lista de hashtags queda: {hashtags}\")"
   ]
  },
  {
   "cell_type": "markdown",
   "metadata": {},
   "source": [
    "6. Buscar todos los números decimales en una cadena de texto.\n",
    "\n",
    "Descripción: Encontrar todos los números decimales presentes en una cadena de texto.\n",
    "\n",
    "Probad con el siguiente string:\n",
    "\n",
    "texto = \"El precio es $19.99. La temperatura es 25.5°C. El índice de inflación es del 2.5%.\"     "
   ]
  },
  {
   "cell_type": "code",
   "execution_count": 15,
   "metadata": {},
   "outputs": [
    {
     "name": "stdout",
     "output_type": "stream",
     "text": [
      "He encontrado todos estos números decimales en el texto:\n",
      "['19.99', '25.5', '2.5']\n"
     ]
    }
   ],
   "source": [
    "texto = \"El precio es $19.99. La temperatura es 25.5°C. El índice de inflación es del 2.5%.\"     \n",
    "\n",
    "patron = r\"\\d+\\.\\d+\"\n",
    "\n",
    "decimales = re.findall(patron, texto)\n",
    "\n",
    "print(f\"He encontrado todos estos números decimales en el texto:\\n{decimales}\")\n",
    "\n"
   ]
  },
  {
   "cell_type": "markdown",
   "metadata": {},
   "source": [
    "7. Validar un nombre de usuario.\n",
    "\n",
    "Descripción: Verificar si una cadena representa un nombre de usuario válido, que contiene solo letras minúsculas, números y guiones bajos (_).\n",
    "\n",
    "Probad con la siguiente lista de usuarios:\n",
    "\n",
    "lista_usuarios = [\"juan_doe123\", \"lola_12\", \"Aurora_23\", \"12marta_lopez\"]"
   ]
  },
  {
   "cell_type": "code",
   "execution_count": 22,
   "metadata": {},
   "outputs": [
    {
     "name": "stdout",
     "output_type": "stream",
     "text": [
      "Aurora_23 descartado: no está en formato válido \n",
      "Los usuarios válidos son: ['juan_doe123', 'lola_12', '12marta_lopez']\n"
     ]
    }
   ],
   "source": [
    "lista_usuarios = [\"juan_doe123\", \"lola_12\", \"Aurora_23\", \"12marta_lopez\"]\n",
    "usuarios_validos = [] \n",
    "patron = r\"[[a-z]|\\d|_]+\"\n",
    "\n",
    "for usuario in lista_usuarios:\n",
    "    if re.match(patron, usuario): # Si es un usuario válido, lo agrego a la lista\n",
    "        usuarios_validos.append(usuario)\n",
    "    else:\n",
    "        print(f\"{usuario} descartado: no está en formato válido \")\n",
    "\n",
    "print(f\"Los usuarios válidos son: {usuarios_validos}\")\n"
   ]
  },
  {
   "cell_type": "markdown",
   "metadata": {},
   "source": [
    "8. Encontrar todas las fechas en formato \"dd/mm/aaaa\" en un texto.\n",
    "\n",
    "Descripción: Encontrar todas las fechas válidas en formato \"dd/mm/aaaa\" presentes en una cadena de texto.\n",
    "\n",
    "Probad con el siguiente string:\n",
    "\n",
    "texto = \"La fecha límite es el 31/12/2022. Hoy es 01/01/2023. Cumpleaños: 15/05/1990.\""
   ]
  },
  {
   "cell_type": "code",
   "execution_count": 27,
   "metadata": {},
   "outputs": [
    {
     "name": "stdout",
     "output_type": "stream",
     "text": [
      "En el texto he encontrado todas estas fechas:\n",
      "['31/12/2022', '01/01/2023', '15/05/1990']\n"
     ]
    }
   ],
   "source": [
    "texto = \"La fecha límite es el 31/12/2022. Hoy es 01/01/2023. Cumpleaños: 15/05/1990.\"\n",
    "\n",
    "patron = r\"\\d{2}/\\d{2}/\\d{4}\"\n",
    "\n",
    "fechas_validas = re.findall(patron, texto)\n",
    "\n",
    "print(f\"En el texto he encontrado todas estas fechas:\\n{fechas_validas}\")"
   ]
  },
  {
   "cell_type": "markdown",
   "metadata": {},
   "source": [
    "9. Remover caracteres especiales.\n",
    "\n",
    "Descripción: Dada una cadena de texto, remover cualquier carácter especial, como signos de puntuación y símbolos.\n",
    "\n",
    "Probad con el siguiente string:\n",
    "\n",
    "texto = '¡Hola, cómo estás? ¿Todo bien?'"
   ]
  },
  {
   "cell_type": "code",
   "execution_count": 30,
   "metadata": {},
   "outputs": [
    {
     "name": "stdout",
     "output_type": "stream",
     "text": [
      "Tras la limpieza, el nuevo texto queda así: \n",
      "HolacómoestásTodobien\n"
     ]
    }
   ],
   "source": [
    "texto = '¡Hola, cómo estás? ¿Todo bien?'\n",
    "\n",
    "patron_remover = r\"\\W\"\n",
    "\n",
    "nuevo_texto = re.sub(patron_remover, \"\", texto) # Elimino cualquier caracter que no sea de palabra (letra, dígito o guion bajo) \n",
    "\n",
    "print(f\"Tras la limpieza, el nuevo texto queda así: \\n{nuevo_texto}\")"
   ]
  },
  {
   "cell_type": "markdown",
   "metadata": {},
   "source": [
    "10. BONUS: Enmascarar información personal.\n",
    "\n",
    "Descripción: Dada una cadena de texto que contiene información personal, como nombres y direcciones, enmascarar esta información reemplazándola con asteriscos (*).\n",
    "\n",
    "Probad con este string:\n",
    "\n",
    "texto = 'El nombre del cliente es John Doe y su dirección es 123 Main Street.'"
   ]
  },
  {
   "cell_type": "code",
   "execution_count": 33,
   "metadata": {},
   "outputs": [
    {
     "name": "stdout",
     "output_type": "stream",
     "text": [
      "El texto enmascarado queda: El nombre del cliente es***** y su dirección es *****.\n"
     ]
    }
   ],
   "source": [
    "texto = 'El nombre del cliente es John Doe y su dirección es 123 Main Street.'\n",
    "\n",
    "patron_nombre = r\"\\d* [A-Z]\\w+ [A-Z]\\w+\"\n",
    "\n",
    "texto_enmascarado = re.sub(patron_nombre, \"*****\", texto)\n",
    "\n",
    "print(f\"El texto enmascarado queda: {texto_enmascarado}\")"
   ]
  }
 ],
 "metadata": {
  "kernelspec": {
   "display_name": "base",
   "language": "python",
   "name": "python3"
  },
  "language_info": {
   "codemirror_mode": {
    "name": "ipython",
    "version": 3
   },
   "file_extension": ".py",
   "mimetype": "text/x-python",
   "name": "python",
   "nbconvert_exporter": "python",
   "pygments_lexer": "ipython3",
   "version": "3.12.4"
  }
 },
 "nbformat": 4,
 "nbformat_minor": 2
}
