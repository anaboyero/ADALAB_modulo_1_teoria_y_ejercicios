{
 "cells": [
  {
   "cell_type": "markdown",
   "metadata": {},
   "source": [
    "---------------------------\n",
    "# Ejercicios\n",
    "\n",
    "1. Crea una función que tome un número arbitrario de cadenas de texto como argumentos y devuelva una cadena de texto que sea la concatenación de todas ellas."
   ]
  },
  {
   "cell_type": "code",
   "execution_count": 3,
   "metadata": {},
   "outputs": [
    {
     "name": "stdout",
     "output_type": "stream",
     "text": [
      "Supercalifragilisticoespialidoso\n"
     ]
    }
   ],
   "source": [
    "def concatenar (*args):\n",
    "    cadena_concatenada = \"\"\n",
    "    for cadena in args:\n",
    "        cadena_concatenada += cadena\n",
    "    return cadena_concatenada\n",
    "\n",
    "print(concatenar(\"Super\", \"cali\", \"fragi\", \"listicoespialidoso\"))"
   ]
  },
  {
   "cell_type": "markdown",
   "metadata": {},
   "source": [
    " 2. Crea una función que tome un número arbitrario de argumentos y devuelva el producto de todos ellos."
   ]
  },
  {
   "cell_type": "code",
   "execution_count": 4,
   "metadata": {},
   "outputs": [
    {
     "name": "stdout",
     "output_type": "stream",
     "text": [
      "El producto de 5 y 6 es: 30\n",
      "El producto de 5, 6 y 7 es: 210\n"
     ]
    }
   ],
   "source": [
    "def producto (*args):\n",
    "    producto = 1\n",
    "    for num in args:\n",
    "        producto *= num\n",
    "    return producto \n",
    "\n",
    "print(f\"El producto de 5 y 6 es: {producto(5 ,6)}\")\n",
    "print(f\"El producto de 5, 6 y 7 es: {producto(5, 6, 7)}\")\n"
   ]
  },
  {
   "cell_type": "markdown",
   "metadata": {},
   "source": [
    "3. Crea una función que tome un número arbitrario de diccionarios como argumentos y devuelva el valor mínimo entre todos los valores de los diccionarios."
   ]
  },
  {
   "cell_type": "code",
   "execution_count": 10,
   "metadata": {},
   "outputs": [
    {
     "name": "stdout",
     "output_type": "stream",
     "text": [
      "El valor minimo de las notas de la clase A es 5 y el de la clase B es 4\n"
     ]
    }
   ],
   "source": [
    "def minimo (**kwargs):\n",
    "    valor_minimo = min(kwargs.values())\n",
    "    return valor_minimo\n",
    "\n",
    "min1 = minimo(Marta= 5, Eva=8)\n",
    "min2 = minimo(Pedro=5, Luis =4)\n",
    "\n",
    "print(f\"El valor minimo de las notas de la clase A es {min1} y el de la clase B es {min2}\")\n",
    "\n"
   ]
  },
  {
   "cell_type": "markdown",
   "metadata": {},
   "source": [
    "4. Crea una función que tome un número arbitrario de listas y devuelva un diccionario donde las listas originales se combinan usando los índices como claves."
   ]
  },
  {
   "cell_type": "code",
   "execution_count": 3,
   "metadata": {},
   "outputs": [
    {
     "name": "stdout",
     "output_type": "stream",
     "text": [
      "{0: [1, 2, 3], 1: ['a', 'b', 'c']}\n"
     ]
    }
   ],
   "source": [
    "def listas_combinadas (*args):\n",
    "    diccionario = {}\n",
    "    for indice, lista in enumerate(args):\n",
    "        diccionario[indice] = lista\n",
    "    return diccionario\n",
    "\n",
    "print(listas_combinadas ([1, 2, 3], ['a', 'b', 'c']))"
   ]
  },
  {
   "cell_type": "markdown",
   "metadata": {},
   "source": [
    "5. Crea una función que tome el tipo de figura geométrica (por ejemplo, \"cuadrado\", \"triángulo\", \"círculo\") como argumento de palabra clave y los argumentos necesarios para calcular el área de esa figura. La función debe devolver el área calculada. Soluciona este ejercicio con *kwargs* Por ejemplo: \n",
    "\n",
    "    ```python\n",
    "    # esta función calcula el area de un cuadrado, para hacerlo solo necesitamos saber su lado  \n",
    "    area_figura(tipo=\"cuadrado\", lado=5)\n",
    "\n",
    "    # si quisieramos calcular la de un triángulo necesitaríamos su base y su altura, y si quisieramos calcular de un círculo necesitaríamos su radio. \n",
    "    ```"
   ]
  },
  {
   "cell_type": "code",
   "execution_count": 11,
   "metadata": {},
   "outputs": [
    {
     "name": "stdout",
     "output_type": "stream",
     "text": [
      "El área de un cuadrado de lado 2 es: 4\n",
      "El área de un círculo de radio 3 es: 28.26\n",
      "3.0\n"
     ]
    }
   ],
   "source": [
    "# El área del circulo es pi*(radio**2)\n",
    "# El área del cuadrado es lado * lado\n",
    "# El área del triángulo es (base * altura)/2\n",
    "\n",
    "def calcular_area (tipo, **kwargs):\n",
    "\n",
    "    if tipo ==\"cuadrado\":\n",
    "        area = kwargs[\"lado\"]**2\n",
    "\n",
    "    elif tipo == \"triangulo\":\n",
    "        area = ((kwargs[\"base\"]*kwargs[\"altura\"])/2)\n",
    "    \n",
    "    elif tipo == \"circulo\":\n",
    "        area = 3.14*(kwargs[\"radio\"]**2)\n",
    "    \n",
    "    else: \n",
    "        print(\"No puedo calcular el área del tipo que me has pasado\")\n",
    "    \n",
    "    return area\n",
    "\n",
    "area1 = f\"El área de un cuadrado de lado 2 es: {calcular_area (\"cuadrado\", lado = 2)}\"\n",
    "area2 = f\"El área de un triángulo de base 3 y altura 2 es: {calcular_area (\"triangulo\", base = 3, altura = 2)}\"\n",
    "area3 = f\"El área de un círculo de radio 3 es: {calcular_area (\"circulo\", radio = 3)}\"\n",
    "\n",
    "print(area1)\n",
    "print(area2)\n",
    "print(area3)\n",
    "\n"
   ]
  },
  {
   "cell_type": "markdown",
   "metadata": {},
   "source": [
    "6. Crea una función que tome argumentos de palabra clave para los ingredientes y pasos de una receta y devuelva una descripción completa de la receta. Resuelvelo con *kwargs*.  Esta función toma como entrada una serie de detalles sobre la receta, como el nombre de la receta, los ingredientes necesarios y los pasos para prepararla. Luego, la función genera y devuelve una descripción detallada de la receta en forma de cadena de texto. Los parámetros que debe recibir la función son:\n",
    "\n",
    "    - nombre_receta: Un argumento de palabra clave que representa el nombre de la receta.\n",
    "\n",
    "    - ingredientes: Un argumento de palabra clave que es un diccionario donde las claves son los nombres de los ingredientes y los valores son las cantidades necesarias de cada ingrediente.\n",
    "    \n",
    "    - pasos: Un argumento de palabra clave que contiene los pasos necesarios para preparar la receta en forma de una cadena de texto.\n",
    "\n",
    "    Al final tendremos que ver algo como esto: \n",
    "    ```python\n",
    "    '''\n",
    "    Receta: Pastel de Chocolate\n",
    "    Ingredientes:\n",
    "        - 200g de chocolate\n",
    "        - 150g de harina\n",
    "        - 100g de azúcar\n",
    "    Pasos:\n",
    "        1. Mezclar el chocolate con la harina.\n",
    "        2. Agregar el azúcar y mezclar bien.\n",
    "    '''\n",
    "    ```"
   ]
  },
  {
   "cell_type": "code",
   "execution_count": 23,
   "metadata": {},
   "outputs": [
    {
     "name": "stdout",
     "output_type": "stream",
     "text": [
      "Receta: Flan de oreo\n",
      "Ingredientes:\n",
      "\t- 100g de harina\n",
      "\t- 150g de azucar\n",
      "\t- 200g de chocolate\n",
      "\t- 500g de galletas oreo\n",
      "Pasos:\n",
      "\t1. Mezclar el chocolate con la harina.\n",
      "\t2. Agregar el azúcar y mezclar bien.\n",
      "\t3. Meter la mezcla en el horno 30 minutos\n",
      "\t4. Añadir oreos\n",
      "\n"
     ]
    }
   ],
   "source": [
    "def mis_recetas (**kwargs):\n",
    "    descripcion = \"Receta: \"+kwargs['nombre_receta'] + \"\\n\"\n",
    "    descripcion += \"Ingredientes:\\n\"\n",
    "    for ingrediente, cantidad in kwargs['ingredientes'].items():\n",
    "        descripcion += \"\\t- \"+cantidad+\" de \"+ingrediente+\"\\n\"\n",
    "    descripcion += \"Pasos:\\n\"\n",
    "    lista_pasos = kwargs[\"pasos\"].split(\"\\n\")   # Convierto la cadena de pasos en una lista sobre la que iteraré\n",
    "    for indice, paso in enumerate(lista_pasos):\n",
    "        descripcion += \"\\t\"+str(indice +1)+\". \"+paso+\"\\n\"\n",
    "    print(descripcion)\n",
    "\n",
    "mis_recetas (nombre_receta = \"Flan de oreo\", \n",
    "             ingredientes = {\"harina\": \"100g\", \"azucar\":\"150g\", \"chocolate\":\"200g\", \"galletas oreo\": \"500g\"}, \n",
    "             pasos = \"Mezclar el chocolate con la harina.\\nAgregar el azúcar y mezclar bien.\\nMeter la mezcla en el horno 30 minutos\\nAñadir oreos\")"
   ]
  },
  {
   "cell_type": "markdown",
   "metadata": {},
   "source": [
    "\n",
    "7. Crea una función que tome argumentos de palabra clave para los ingresos y gastos de una empresa y genere un informe financiero. Resyelvelo con *kwargs*. La función calcula y presenta un informe financiero simple. Este informe incluye detalles sobre los ingresos, los gastos y el balance de una entidad financiera, como una empresa o una persona. La función toma como entrada los ingresos y los gastos, y calcula el balance restando los gastos de los ingresos. Luego, genera una descripción del informe financiero en forma de cadena de texto. Los parámetros que recibe la función son: \n",
    "\n",
    "    - ingresos: Un argumento de palabra clave que representa la cantidad total de ingresos (dinero ganado) que se desea informar. Por defecto, se establece en 0 si no se proporciona ningún valor.\n",
    "\n",
    "    - gastos: Un argumento de palabra clave que representa la cantidad total de gastos (dinero gastado) que se desea informar. Por defecto, se establece en 0 si no se proporciona ningún valor.\n",
    "\n",
    "\n",
    "    Al final tendremos algo como esto:\n",
    "\n",
    "    ```python\n",
    "    '''\n",
    "    Ingresos: $50000\n",
    "    Gastos: $35000\n",
    "    Balance: $15000\n",
    "    '''"
   ]
  },
  {
   "cell_type": "code",
   "execution_count": 4,
   "metadata": {},
   "outputs": [
    {
     "name": "stdout",
     "output_type": "stream",
     "text": [
      "Ingresos: $ 0\n",
      "Gastos: $ 15000\n",
      "Balance: $-15000\n"
     ]
    }
   ],
   "source": [
    "def informe_financiero (**kwargs):\n",
    "    ingresos = kwargs.setdefault('ingresos', 0)\n",
    "    gastos = kwargs.setdefault('gastos', 0)\n",
    "    balance = ingresos - gastos\n",
    "    # informe = \"Ingresos: $\"+ingresos+\"\\n\"+\"Gastos: $\"+gastos+\"\\n\"+\"Balance: $\"+ingresos-gastos+\"\\n\"\n",
    "    informe = f\"Ingresos: $ {ingresos}\\nGastos: $ {gastos}\\nBalance: ${ingresos - gastos}\"\n",
    "    return informe\n",
    "\n",
    "\n",
    "print(informe_financiero (gastos=15000))\n"
   ]
  }
 ],
 "metadata": {
  "kernelspec": {
   "display_name": "base",
   "language": "python",
   "name": "python3"
  },
  "language_info": {
   "codemirror_mode": {
    "name": "ipython",
    "version": 3
   },
   "file_extension": ".py",
   "mimetype": "text/x-python",
   "name": "python",
   "nbconvert_exporter": "python",
   "pygments_lexer": "ipython3",
   "version": "3.12.4"
  }
 },
 "nbformat": 4,
 "nbformat_minor": 2
}
