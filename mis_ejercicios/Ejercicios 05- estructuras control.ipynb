{
 "cells": [
  {
   "cell_type": "markdown",
   "metadata": {},
   "source": [
    "----------------\n",
    "\n",
    "# Ejercicios\n",
    "\n",
    "1. Crea una variable que sea igual a \"Python\" y genera un código que nos printee todas las letras menos la \"P\" usando la sentencia `continue`.\n"
   ]
  },
  {
   "cell_type": "code",
   "execution_count": 2,
   "metadata": {},
   "outputs": [
    {
     "name": "stdout",
     "output_type": "stream",
     "text": [
      "y\n",
      "t\n",
      "h\n",
      "o\n",
      "n\n"
     ]
    }
   ],
   "source": [
    "programa = \"Python\" \n",
    "\n",
    "for letra in programa:\n",
    "    if letra == \"P\":\n",
    "        continue\n",
    "    else:\n",
    "        print(letra)"
   ]
  },
  {
   "cell_type": "markdown",
   "metadata": {},
   "source": [
    "2. De la frase `'Hello'` imprime todas las letras que no sean una `'l'` usando `if`."
   ]
  },
  {
   "cell_type": "code",
   "execution_count": 4,
   "metadata": {},
   "outputs": [
    {
     "name": "stdout",
     "output_type": "stream",
     "text": [
      "H\n",
      "e\n",
      "o\n"
     ]
    }
   ],
   "source": [
    "frase = \"Hello\"\n",
    "\n",
    "for letra in frase:\n",
    "    if letra != 'l':\n",
    "        print(letra)"
   ]
  },
  {
   "cell_type": "markdown",
   "metadata": {},
   "source": [
    "3. Haz lo mismo que en 2 usando `continue`."
   ]
  },
  {
   "cell_type": "code",
   "execution_count": 5,
   "metadata": {},
   "outputs": [
    {
     "name": "stdout",
     "output_type": "stream",
     "text": [
      "H\n",
      "e\n",
      "o\n"
     ]
    }
   ],
   "source": [
    "frase = \"Hello\"\n",
    "\n",
    "for letra in frase:\n",
    "    if letra == 'l':\n",
    "        continue\n",
    "    else:\n",
    "        print(letra)"
   ]
  },
  {
   "cell_type": "markdown",
   "metadata": {},
   "source": [
    "\n",
    "4. De la frase `'Hello'` imprime todas las letras parando el bucle si encuentras una `'o'`."
   ]
  },
  {
   "cell_type": "code",
   "execution_count": 6,
   "metadata": {},
   "outputs": [
    {
     "name": "stdout",
     "output_type": "stream",
     "text": [
      "H\n",
      "e\n",
      "l\n",
      "l\n"
     ]
    }
   ],
   "source": [
    "frase = \"Hello\"\n",
    "\n",
    "for letra in frase:\n",
    "    if letra == 'o':\n",
    "        break\n",
    "    else:\n",
    "        print(letra)"
   ]
  },
  {
   "cell_type": "markdown",
   "metadata": {},
   "source": [
    "5. Define  la variable `doce = '12'` y `seis = 6`. Intenta sumarlos. En el caso de que te salga un error imprime `'¡Un error!'`. Para eso usa un `try` ... `except`"
   ]
  },
  {
   "cell_type": "code",
   "execution_count": 8,
   "metadata": {},
   "outputs": [
    {
     "name": "stdout",
     "output_type": "stream",
     "text": [
      "¡Un error!\n"
     ]
    }
   ],
   "source": [
    "doce = '12'\n",
    "seis = 6\n",
    "\n",
    "try:\n",
    "    suma = doce + seis\n",
    "except:\n",
    "    print(\"¡Un error!\")"
   ]
  },
  {
   "cell_type": "markdown",
   "metadata": {},
   "source": [
    "6. Basándonos en el ejercicio anterior, sin usar un `try` ... `except`, ¿cómo podríamos solucionar el problema? "
   ]
  },
  {
   "cell_type": "code",
   "execution_count": 9,
   "metadata": {},
   "outputs": [
    {
     "name": "stdout",
     "output_type": "stream",
     "text": [
      "18\n"
     ]
    }
   ],
   "source": [
    "doce = '12'\n",
    "seis = 6\n",
    "\n",
    "suma = int(doce) + seis\n",
    "print(suma)\n",
    "\n"
   ]
  },
  {
   "cell_type": "markdown",
   "metadata": {},
   "source": [
    "7. Solicita al usuario ingresar números enteros positivos hasta que ingrese un número negativo. Luego, muestra la suma de todos los números pares ingresados."
   ]
  },
  {
   "cell_type": "code",
   "execution_count": 13,
   "metadata": {},
   "outputs": [
    {
     "name": "stdout",
     "output_type": "stream",
     "text": [
      "5 es par, así que lo sumo a los anteriores\n",
      "1 es par, así que lo sumo a los anteriores\n",
      "La suma de los números pares ingresados es: 6\n"
     ]
    }
   ],
   "source": [
    "suma_pares = 0\n",
    "\n",
    "while (True):\n",
    "    numero_usuario = int(input(\"Ingrese un numero\"))\n",
    "    if numero_usuario%2:\n",
    "        suma_pares += numero_usuario\n",
    "        print(f\"{numero_usuario} es par, así que lo sumo a los anteriores\")\n",
    "    if numero_usuario < 0:\n",
    "        break\n",
    "\n",
    "print(f\"La suma de los números pares ingresados es: {suma_pares}\")\n"
   ]
  },
  {
   "cell_type": "markdown",
   "metadata": {},
   "source": [
    "8. Solicita al usuario ingresar dos números y muestra el resultado de dividir el primero por el segundo. Asegúrate de manejar la excepción si el segundo número es cero."
   ]
  },
  {
   "cell_type": "code",
   "execution_count": 16,
   "metadata": {},
   "outputs": [
    {
     "name": "stdout",
     "output_type": "stream",
     "text": [
      "No se puede dividir entre cero\n",
      "El programa ha terminado. ¡Adiós!\n"
     ]
    }
   ],
   "source": [
    "numero1 = int(input(\"Ingrese un numero\"))\n",
    "numero2 = int(input(\"Ingrese un numero\"))\n",
    "\n",
    "try:\n",
    "    division = numero1/numero2\n",
    "\n",
    "except:\n",
    "    print(\"No se puede dividir entre cero\")\n",
    "\n",
    "else: \n",
    "    print(f\"El resultado de la división es {round(division, 2)}\")\n",
    "\n",
    "finally:\n",
    "    print(\"El programa ha terminado. ¡Adiós!\")\n",
    "\n",
    "\n",
    "\n"
   ]
  },
  {
   "cell_type": "markdown",
   "metadata": {},
   "source": [
    "9. Solicita al usuario ingresar un número y muestra su raíz cuadrada. Maneja la excepción si el número es negativo."
   ]
  },
  {
   "cell_type": "code",
   "execution_count": 19,
   "metadata": {},
   "outputs": [
    {
     "name": "stdout",
     "output_type": "stream",
     "text": [
      "La raíz cuadrada de -3 es (1.0605752387249068e-16+1.7320508075688772j)\n",
      "El programa ha terminado. ¡Adiós!\n"
     ]
    }
   ],
   "source": [
    "numero = int(input(\"Ingrese un numero\"))\n",
    "\n",
    "try:\n",
    "    raiz_cuadrada= numero**0.5\n",
    "\n",
    "except:\n",
    "    print(\"No se puede hacer la raíz cuadrada de números negativos\")\n",
    "\n",
    "else: \n",
    "    print(f\"La raíz cuadrada de {numero} es {raiz_cuadrada}\")\n",
    "\n",
    "finally: \n",
    "    print(\"El programa ha terminado. ¡Adiós!\")\n"
   ]
  },
  {
   "cell_type": "markdown",
   "metadata": {},
   "source": [
    "10. Crea una lista de números y solicita al usuario ingresar un índice para acceder a un elemento de la lista. Maneja la excepción si el índice está fuera de rango."
   ]
  },
  {
   "cell_type": "code",
   "execution_count": 25,
   "metadata": {},
   "outputs": [
    {
     "name": "stdout",
     "output_type": "stream",
     "text": [
      "[0, 1, 2, 3, 4, 5, 6, 7, 8]\n",
      "En esa posición está el número 1\n",
      "El programa ha terminado. ¡Adiós!\n"
     ]
    }
   ],
   "source": [
    "numeros = list(range(9))\n",
    "print(numeros)\n",
    "indice_usuario = int(input(\"¿A qué posición de la lista quieres acceder?\"))\n",
    "\n",
    "try:\n",
    "    numero_encontrado= numeros[indice_usuario]\n",
    "\n",
    "except IndexError:\n",
    "    print(\"No existe ese indice en la lista\")\n",
    "\n",
    "else:\n",
    "    print(f\"En esa posición está el número {numero_encontrado}\")\n",
    "\n",
    "finally:\n",
    "    print(\"El programa ha terminado. ¡Adiós!\")\n",
    "     \n",
    "\n",
    "\n"
   ]
  }
 ],
 "metadata": {
  "kernelspec": {
   "display_name": "base",
   "language": "python",
   "name": "python3"
  },
  "language_info": {
   "codemirror_mode": {
    "name": "ipython",
    "version": 3
   },
   "file_extension": ".py",
   "mimetype": "text/x-python",
   "name": "python",
   "nbconvert_exporter": "python",
   "pygments_lexer": "ipython3",
   "version": "3.12.4"
  }
 },
 "nbformat": 4,
 "nbformat_minor": 2
}
