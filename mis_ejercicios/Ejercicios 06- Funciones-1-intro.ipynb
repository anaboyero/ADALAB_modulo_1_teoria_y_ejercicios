{
 "cells": [
  {
   "cell_type": "markdown",
   "metadata": {},
   "source": [
    "# Ejercicios\n",
    "\n",
    "1. Escribe una función que reciba una cadena de texto como parámetro y devuelva un diccionario con las frecuencias de cada letra en la cadena. Los espacios no deben ser considerados. \n"
   ]
  },
  {
   "cell_type": "code",
   "execution_count": 8,
   "metadata": {},
   "outputs": [
    {
     "name": "stdout",
     "output_type": "stream",
     "text": [
      "En la palabra 'melocoton' aparecen las letras tantas veces: {'m': 2, 'e': 2, 'l': 2, 'o': 3, 'c': 1, 't': 1, 'n': 2, 'a': 2, 'i': 1, 'b': 1, 'r': 1}\n"
     ]
    }
   ],
   "source": [
    "def frecuencias_letras (cadena):\n",
    "    # Iterar por las letras de la cadena \n",
    "    # si la letra no está en el diccionario como clave, la añado con con valor 1\n",
    "    # si el esa letra ya existe como clave en el diccionario, aumento su valor\n",
    "    \n",
    "    frecuencias = {}\n",
    "    for letra in cadena:\n",
    "        if letra !=' ':\n",
    "            if letra not in frecuencias:\n",
    "                frecuencias[letra]= 1\n",
    "            else:\n",
    "                frecuencias[letra] += 1\n",
    "    return frecuencias\n",
    "\n",
    "frecuencias_melocoton = frecuencias_letras(\"melocoton en almibar\")\n",
    "print(f\"En la palabra 'melocoton' aparecen las letras tantas veces: {frecuencias_melocoton}\")"
   ]
  },
  {
   "cell_type": "markdown",
   "metadata": {},
   "source": [
    "2. Escribe una función que reciba una cadena de texto como parámetro y devuelva una lista con todas las palabras que tienen más de 5 letras."
   ]
  },
  {
   "cell_type": "code",
   "execution_count": 14,
   "metadata": {},
   "outputs": [
    {
     "name": "stdout",
     "output_type": "stream",
     "text": [
      "La lista de palabras es: ['El', 'patio', 'de', 'mi', 'casa', 'es', 'particular']\n",
      "La lista de palabras es: ['particular']\n"
     ]
    }
   ],
   "source": [
    "def mas_de_5 (cadena):\n",
    "    palabras_cadena = cadena.split()\n",
    "    palabras_largas = []\n",
    "    print(f\"La lista de palabras es: {palabras_cadena}\")\n",
    "    for palabra in palabras_cadena:\n",
    "        if len(palabra) > 5:\n",
    "            palabras_largas.append(palabra)\n",
    "        else:\n",
    "            continue\n",
    "\n",
    "    return palabras_largas\n",
    "\n",
    "listado_palabras = mas_de_5(\"El patio de mi casa es particular\")\n",
    "print(f\"La lista de palabras es: {listado_palabras}\")"
   ]
  },
  {
   "cell_type": "markdown",
   "metadata": {},
   "source": [
    "3. Crea una función que tome una lista de palabras como entrada y devuelva una lista de palabras que contengan más de una vocal."
   ]
  },
  {
   "cell_type": "code",
   "execution_count": 5,
   "metadata": {},
   "outputs": [
    {
     "name": "stdout",
     "output_type": "stream",
     "text": [
      "Las palabras con más de una vocal son: ['amarillo']\n",
      "******************** \n",
      "Modo Lambda:\n",
      "Las palabras con más de una vocal son: ['amarillo']\n"
     ]
    }
   ],
   "source": [
    "def varias_vocales (cadena):\n",
    "    palabras_con_vocales = []\n",
    "    cadena_minusculas = cadena.lower()\n",
    "    palabras_cadena = cadena_minusculas.split()\n",
    "\n",
    "    for palabra in palabras_cadena:\n",
    "        num_vocales = palabra.count('a') + palabra.count('e') + palabra.count('i') + palabra.count('o') + palabra.count('u')\n",
    "        if num_vocales > 1:\n",
    "            palabras_con_vocales.append(palabra)\n",
    "        else:\n",
    "            continue\n",
    "\n",
    "    return palabras_con_vocales\n",
    "\n",
    "palabras_con_varias_vocales = varias_vocales(\"El sol es amarillo\")\n",
    "print(f\"Las palabras con más de una vocal son: {palabras_con_varias_vocales}\")\n",
    "\n",
    "print('*'*20, \"\\nModo Lambda:\")\n",
    "# Mismo ejercicio, pero con una list comprehension\n",
    "\n",
    "\n",
    "def varias_vocales2 (cadena):\n",
    "    palabras_cadena = cadena.split()\n",
    "    varias_vocales = [palabra for palabra in palabras_cadena if (palabra.count('a') + palabra.count('e') + palabra.count('i') + palabra.count('o') + palabra.count('u')) > 1 ]\n",
    "    return varias_vocales\n",
    "\n",
    "palabras_con_varias_vocales2 = varias_vocales2(\"El sol es amarillo\")\n",
    "print(f\"Las palabras con más de una vocal son: {palabras_con_varias_vocales2}\")\n",
    "\n"
   ]
  },
  {
   "cell_type": "markdown",
   "metadata": {},
   "source": [
    "4. Crea una función que tome una lista de números y calcule la suma de todos los números pares en la lista."
   ]
  },
  {
   "cell_type": "code",
   "execution_count": 18,
   "metadata": {},
   "outputs": [
    {
     "name": "stdout",
     "output_type": "stream",
     "text": [
      "La suma de los números es: 20\n",
      " ***Modo Lambda***\n",
      "La suma de los números es: 20\n"
     ]
    }
   ],
   "source": [
    "numeros = list(range(10)) # Construyo una lista de nímeros de 0 a 9\n",
    "\n",
    "# Funcion clásica\n",
    "\n",
    "def suma_pares1(lista):\n",
    "    suma = 0\n",
    "    for num in lista:\n",
    "        if num % 2 ==0:\n",
    "            suma += num\n",
    "    return suma\n",
    "\n",
    "resultado1 = suma_pares1(numeros) #Invoco a la función para que sume sus números\n",
    "print (f\"La suma de los números es: {resultado1}\")\n",
    "\n",
    "# Función lambda\n",
    "\n",
    "suma_pares2 = lambda lista : sum( [ num for num in lista if num % 2 == 0 ])\n",
    "resultado2 = suma_pares2(numeros)\n",
    "print (f\" ***Modo Lambda***\\nLa suma de los números es: {resultado2}\")\n",
    "\n",
    "\n",
    "\n"
   ]
  },
  {
   "cell_type": "markdown",
   "metadata": {},
   "source": [
    "5. Escribe una función que tome una lista de números como entrada y calcule el promedio de esos números."
   ]
  },
  {
   "cell_type": "code",
   "execution_count": 24,
   "metadata": {},
   "outputs": [
    {
     "name": "stdout",
     "output_type": "stream",
     "text": [
      "[0, 1, 2, 3, 4, 5, 6, 7, 8, 9, 10, 11]\n",
      "El promedio de los números es: 5.5\n",
      "***Modo Lambda***\n",
      "El promedio de los números es: 5.5\n"
     ]
    }
   ],
   "source": [
    "numeros = range(12)\n",
    "print(list(numeros))\n",
    "\n",
    "def promedio1(numeros):\n",
    "    resultado = sum(numeros)/len(numeros)\n",
    "    return resultado\n",
    "\n",
    "print (f\"El promedio de los números es: {promedio1(numeros)}\")\n",
    "\n",
    "promedio2 = lambda numeros: sum(numeros)/len(numeros)\n",
    "print (f\"***Modo Lambda***\\nEl promedio de los números es: {promedio2(numeros)}\")\n"
   ]
  },
  {
   "cell_type": "markdown",
   "metadata": {},
   "source": [
    "6. Crea una función que determine el próximo año en el que las cifras del año de tu cumpleaños no se repitan. La función toma un año de tu cumpleaños como entrada y calcula el próximo año en el que las cifras no se repitan, es decir, todas las cifras en el año son diferentes entre sí."
   ]
  },
  {
   "cell_type": "code",
   "execution_count": 40,
   "metadata": {},
   "outputs": [
    {
     "name": "stdout",
     "output_type": "stream",
     "text": [
      "Solución: el primer año que no comparte cifras con 1984 y que no repite cifras es: 2035\n"
     ]
    }
   ],
   "source": [
    "# Buscamos el primer año donde no se repita ninguna cifra del año del cumpleaños ni del propio año\n",
    "# Empezamos a iterar desde el siguiente año tras el año cumpleaños \n",
    "# Devolvemos el primer año que cumpla las dos condiciones\n",
    "\n",
    "def proximo_cifras_unicas(anno_cumple):\n",
    "\n",
    "    # Guardamos en un set las cifras no repetidas del año del cumpleaños.\n",
    "\n",
    "    set_anno_cumple = set(str(anno_cumple))   # Los set solo reciben iterables, por eso convertimos el año recibido (int) en una cadena.\n",
    "\n",
    "    anno_iterado = anno_cumple + 1 \n",
    "\n",
    "    seguimos_buscando = True\n",
    "\n",
    "    while (seguimos_buscando): \n",
    "\n",
    "        set_anno_iterado = set(str(anno_iterado))\n",
    "\n",
    "        # Si no se repite ninguna de las cifras de año iterado...\n",
    "        # y el año iterado tampoco comparte cifras con el año del cumple\n",
    "\n",
    "        if len(set_anno_iterado) == 4 and set_anno_iterado.isdisjoint(set_anno_cumple):\n",
    "            # Hemos dado con la solución. Salimos del bucle.\n",
    "            seguimos_buscando = False\n",
    "    \n",
    "        else: \n",
    "            # Seguimos en el bucle e incrementamos el valor del año a iterar.\n",
    "            anno_iterado +=1\n",
    "            \n",
    "    return anno_iterado\n",
    "\n",
    "year = 1984\n",
    "solucion = proximo_cifras_unicas(year)\n",
    "\n",
    "print(f\"Solución: el primer año que no comparte cifras con {year} y que no repite cifras es: {solucion}\")\n",
    "\n"
   ]
  },
  {
   "cell_type": "markdown",
   "metadata": {},
   "source": [
    "7. Crea una función que determine cuántos pasteles puedes hornear según una receta y los ingredientes disponibles. La función toma dos diccionarios como entrada: receta, que contiene los ingredientes necesarios para un pastel, y disponible, que contiene la cantidad disponible de cada ingrediente. Sus parámetros de entrada son: \n",
    "\n",
    "    - receta: Un diccionario que representa los ingredientes necesarios para un pastel, donde las claves son los nombres de los ingredientes y los valores son las cantidades necesarias de cada ingrediente.\n",
    "\n",
    "    - disponible: Un diccionario que representa la cantidad disponible de cada ingrediente, donde las claves son los nombres de los ingredientes y los valores son las cantidades disponibles.\n",
    "\n",
    "    ```python\n",
    "    receta1 = {'flour': 500, 'sugar': 200, 'eggs': 1}\n",
    "    ingredientes1 = {'flour': 1200, 'sugar': 1200, 'eggs': 5, 'milk': 200}\n",
    "\n",
    "    pasteles(receta1, ingredientes1)    \n",
    "    # output: con estos ingredientes solo puedo hacer 2 bizcochos"
   ]
  },
  {
   "cell_type": "code",
   "execution_count": 64,
   "metadata": {},
   "outputs": [
    {
     "name": "stdout",
     "output_type": "stream",
     "text": [
      "Mis ingredientes por separado dan para hacer {2, 5, 6} bizcochos\n",
      "Así que en total solo puedo hacer 2 bizcochos\n"
     ]
    },
    {
     "data": {
      "text/plain": [
       "2"
      ]
     },
     "execution_count": 64,
     "metadata": {},
     "output_type": "execute_result"
    }
   ],
   "source": [
    "# Por cada ingrediente que tengo, calculo cuantos bizcochos podría hacer. \n",
    "# Si algún ingrediente es menor que el mínimo necesario, detengo la iteración y devuelvo 0.\n",
    "# En caso contrario, devuelvo el número mínimo posible de bizcochos que me permiten hacer mis ingredientes por separado\n",
    "# Y devuelvo el menor de ellos.\n",
    "\n",
    "def cuantos_bizcochos (receta, mis_ingredientes):\n",
    "    resultado = 0   \n",
    "    bizcochos_por_ingrediente = set()\n",
    "    set_mis_ingredientes = set(mis_ingredientes)\n",
    "    set_receta = set(receta)\n",
    "\n",
    "    # Primero compruebo que todos los ingredientes de la receta están en mi lista de ingredientes\n",
    "    \n",
    "    if len(set_mis_ingredientes.intersection(set_receta)) == len(set_receta):\n",
    "        \n",
    "        # Por cada ingrediente que necesito, calculo cuantos bizcochos podría hacer con la cantidad que tengo. \n",
    "\n",
    "        for ingrediente, cantidad_necesaria in receta.items():\n",
    "\n",
    "            max_bizcochos = int(mis_ingredientes[ingrediente]/ cantidad_necesaria)\n",
    "            if max_bizcochos < 1:\n",
    "                print(f\"No tengo suficiente {ingrediente} para hacer un bizcocho\")\n",
    "                return resultado # Salimos inmediatamente de la función\n",
    "            else: \n",
    "                bizcochos_por_ingrediente.add(max_bizcochos)\n",
    "    \n",
    "    else: \n",
    "        print(f\"Me faltan ingredientes. No puedo hacer un bizcocho\")\n",
    "        return resultado # Salimos inmediatamente de la función\n",
    "        \n",
    "    resultado = min(bizcochos_por_ingrediente)\n",
    "    print(f\"Mis ingredientes por separado dan para hacer {bizcochos_por_ingrediente} bizcochos\")\n",
    "    print(f\"Así que en total solo puedo hacer {resultado} bizcochos\")\n",
    "    return resultado\n",
    "\n",
    "receta1 = {'flour': 500, 'sugar': 200, 'eggs': 1}\n",
    "ingredientes1 = {'flour': 1200, 'sugar': 1200, 'eggs': 5, 'milk': 200}\n",
    "cuantos_bizcochos(receta1, ingredientes1)\n"
   ]
  },
  {
   "cell_type": "code",
   "execution_count": 81,
   "metadata": {},
   "outputs": [
    {
     "name": "stdout",
     "output_type": "stream",
     "text": [
      "Con estos ingredientes puedo hacer 2 bizcochos\n"
     ]
    }
   ],
   "source": [
    "# Repito el ejercicio anterioir usando una lambda\n",
    "\n",
    "def cuantos_bizcochos (receta, mis_ingredientes):\n",
    "    resultado = 0   \n",
    "    bizcochos_por_ingrediente = set()\n",
    "\n",
    "    # Primero compruebo que todos los ingredientes de la receta están en mi lista de ingredientes\n",
    "\n",
    "    estan_todos = lambda receta, mis_ingredientes : len(set(receta).intersection(set(mis_ingredientes))) == len(set(receta))\n",
    "\n",
    "    if estan_todos (receta, mis_ingredientes):\n",
    "        \n",
    "        for ingrediente, cantidad_necesaria in receta.items():\n",
    "            max_bizcochos = int(mis_ingredientes[ingrediente]/ cantidad_necesaria)\n",
    "            if max_bizcochos < 1:\n",
    "                print(f\"No tengo suficiente {ingrediente} para hacer un bizcocho\")\n",
    "                return resultado \n",
    "            else: \n",
    "                bizcochos_por_ingrediente.add(max_bizcochos)\n",
    "    \n",
    "    else: \n",
    "        print(f\"Me faltan ingredientes. No puedo hacer un bizcocho\")\n",
    "        return resultado \n",
    "        \n",
    "    resultado = min(bizcochos_por_ingrediente)\n",
    "    return resultado\n",
    "\n",
    "receta1 = {'flour': 500, 'sugar': 200, 'eggs': 1}\n",
    "ingredientes1 = {'flour': 1200, 'sugar': 1200, 'eggs': 5, 'milk': 200}\n",
    "total_bizcochos = cuantos_bizcochos(receta1, ingredientes1)\n",
    "print(f\"Con estos ingredientes puedo hacer {total_bizcochos} bizcochos\")"
   ]
  },
  {
   "cell_type": "markdown",
   "metadata": {},
   "source": [
    "BONUS: \n",
    "8. Crea una función llamada fibonacci que tome un número n como argumento y devuelva una lista con los primeros n números de la serie Fibonacci."
   ]
  },
  {
   "cell_type": "code",
   "execution_count": 10,
   "metadata": {},
   "outputs": [
    {
     "name": "stdout",
     "output_type": "stream",
     "text": [
      "[0, 1, 1, 2, 3, 5, 8, 13, 21, 34, 55]\n"
     ]
    }
   ],
   "source": [
    "# La sucesión de Fibonacci empieza con 0, 1 y continua con la suma de los dos numeros anteriores:\n",
    "\n",
    "# 0, 1, 1, 2, 3, 5, 8, 13...\n",
    "\n",
    "def fibonacci (numero):\n",
    "    sucesion = []\n",
    "    if numero == 0:\n",
    "        sucesion.append(0)\n",
    "    elif numero == 1:\n",
    "        sucesion.append(0)\n",
    "        sucesion.append(1)\n",
    "    elif numero > 0:\n",
    "        sucesion = [0,1]\n",
    "        for x in range (2, numero +1):\n",
    "            sucesion.append(sucesion [x-1] + sucesion [x-2])\n",
    "    else:\n",
    "        print(\"No existe sucesión de Fibonacci para números negativos\")\n",
    "    return sucesion\n",
    "\n",
    "print(fibonacci(10))\n",
    "\n",
    "\n",
    "\n",
    "\n"
   ]
  }
 ],
 "metadata": {
  "kernelspec": {
   "display_name": "base",
   "language": "python",
   "name": "python3"
  },
  "language_info": {
   "codemirror_mode": {
    "name": "ipython",
    "version": 3
   },
   "file_extension": ".py",
   "mimetype": "text/x-python",
   "name": "python",
   "nbconvert_exporter": "python",
   "pygments_lexer": "ipython3",
   "version": "3.12.4"
  }
 },
 "nbformat": 4,
 "nbformat_minor": 2
}
