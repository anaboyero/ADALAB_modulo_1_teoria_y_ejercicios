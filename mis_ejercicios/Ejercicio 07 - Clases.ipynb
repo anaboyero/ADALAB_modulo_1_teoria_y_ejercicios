{
 "cells": [
  {
   "cell_type": "markdown",
   "metadata": {},
   "source": [
    "# Ejercicios \n",
    "\n",
    "Crea una clase llamada `Vehiculo` que representa un vehículo genérico. Esta clase tiene la capacidad de realizar acciones relacionadas con el vehículo, como encenderlo, apagarlo, acelerar, frenar y detenerlo gradualmente. Cada método en la clase tiene una descripción específica de su función. A continuación, se detallan los aspectos clave de esta clase:\n",
    "\n",
    "\n",
    "\n",
    "- **Métodos:**\n",
    "\n",
    "    -  `__init__(self, marca, modelo, año)`: El constructor de la clase que inicializa los atributos del vehículo, incluyendo la marca, el modelo, el año, la velocidad actual (inicialmente 0) y el estado del encendido (inicialmente apagado).\n",
    "\n",
    "    - `informacion(self)`: Un método que devuelve una cadena de texto con la información básica del vehículo, incluyendo la marca, el modelo y el año.\n",
    "\n",
    "    - `encender(self)`: Un método que enciende el vehículo si está apagado y devuelve un mensaje de confirmación. Si el vehículo ya está encendido, devuelve un mensaje indicando que ya está en funcionamiento.\n",
    "\n",
    "    - `apagar(self)`: Un método que apaga el vehículo si está encendido, establece la velocidad actual en 0 y devuelve un mensaje de confirmación. Si el vehículo ya está apagado, devuelve un m- **Atributos:**\n",
    "\n",
    "    - `marca`: Una cadena que representa la marca del vehículo.\n",
    "\n",
    "    - `modelo`: Una cadena que representa el modelo del vehículo.\n",
    "\n",
    "    - `año`: Un número entero que representa el año de fabricación del vehículo.\n",
    "\n",
    "    - `velocidad_actual`: Un número entero que representa la velocidad actual del vehículo en km/h.\n",
    "\n",
    "    - `encendido`: Un valor booleano que indica si el vehículo está encendido (`True`) o apagado (`False`).ensaje indicando que ya está apagado.\n",
    "\n",
    "    - `acelerar(self, velocidad)`: Un método que aumenta la velocidad actual del vehículo según la cantidad de velocidad proporcionada como argumento. Si el vehículo está encendido, aumenta la velocidad y devuelve un mensaje con la nueva velocidad actual. Si el vehículo está apagado, devuelve un mensaje indicando que no se puede acelerar.\n",
    "\n",
    "    - `frenar(self, velocidad)`: Un método que reduce la velocidad actual del vehículo según la cantidad de velocidad proporcionada como argumento. Si el vehículo está encendido, reduce la velocidad y devuelve un mensaje con la nueva velocidad actual. Si el vehículo está apagado, devuelve un mensaje indicando que no se puede frenar.\n",
    "\n",
    "    - `detener(self)`: Un método que detiene gradualmente el vehículo reduciendo la velocidad en incrementos de 5 km/h hasta que alcance una velocidad de 0 km/h. Si el vehículo está encendido, detiene el vehículo y devuelve un mensaje de confirmación. Si el vehículo está apagado, devuelve un mensaje indicando que no se puede detener.\n",
    "\n",
    "\n",
    "Crea la subclase Coche que hereda de la clase base Vehiculo y representa un coche específico. Además de los atributos y métodos heredados, la clase Coche tiene un atributo adicional:\n",
    "\n",
    "\n",
    "- **Atributos:**\n",
    "    - combustible: Una cadena que representa el tipo de combustible que utiliza el coche.\n",
    "\n",
    "- **Métodos:**\n",
    "\n",
    "    - `__init__(self, marca, modelo, año, combustible)`: Constructor que inicializa los atributos de la clase base y el atributo específico del coche.\n",
    "    \n",
    "    - `informacion(self)`: Devuelve una cadena con la información del coche, incluyendo la marca, el modelo, el año y el tipo de combustible.\n",
    "\n"
   ]
  },
  {
   "cell_type": "code",
   "execution_count": 27,
   "metadata": {},
   "outputs": [
    {
     "name": "stdout",
     "output_type": "stream",
     "text": [
      "El vehículo ya estaba apagado\n",
      "Encendemos el vehículo\n",
      "Mi nueva velocidad es 100 km/h\n",
      "Mi nueva velocidad es 50 km/h\n",
      "Mi nueva velocidad es 45 km/h\n",
      "Mi nueva velocidad es 40 km/h\n",
      "Mi nueva velocidad es 35 km/h\n",
      "Mi nueva velocidad es 30 km/h\n",
      "Mi nueva velocidad es 25 km/h\n",
      "Mi nueva velocidad es 20 km/h\n",
      "Mi nueva velocidad es 15 km/h\n",
      "Mi nueva velocidad es 10 km/h\n",
      "Mi nueva velocidad es 5 km/h\n",
      "Mi nueva velocidad es 0 km/h\n",
      "Apagamos el vehículo\n",
      "Entro en el metodo informacion () de Vehiculo\n"
     ]
    },
    {
     "data": {
      "text/plain": [
       "'Mi marca es Opel. Mi modelo es Vectra. Mi año es 2014'"
      ]
     },
     "execution_count": 27,
     "metadata": {},
     "output_type": "execute_result"
    }
   ],
   "source": [
    "class Vehiculo:\n",
    "    def __init__(self, marca, modelo, anyo):\n",
    "        self.marca = marca\n",
    "        self.modelo = modelo\n",
    "        self.anyo = anyo # tipo integer\n",
    "        self.velocidad_actual = 0 # Inicializo a cero por defecto.\n",
    "        self.encendido = False # Apagado por defecto\n",
    "\n",
    "    def encender (self):\n",
    "        if self.encendido:\n",
    "            print(\"El vehículo ya estaba encendido\")\n",
    "        else:\n",
    "            self.encendido = True\n",
    "            print(\"Encendemos el vehículo\")\n",
    "    \n",
    "    def apagar(self):\n",
    "        if self.encendido:\n",
    "            self.encendido = False\n",
    "            print(\"Apagamos el vehículo\")\n",
    "        else:\n",
    "            print(\"El vehículo ya estaba apagado\")\n",
    "\n",
    "    def acelerar (self, velocidad):\n",
    "        # print(f\"Mi velocidad actual es {self.velocidad_actual}\")\n",
    "        if self.encendido:\n",
    "            self.velocidad_actual += velocidad\n",
    "            print(f\"Mi nueva velocidad es {self.velocidad_actual} km/h\")\n",
    "        else:\n",
    "            print(\"No puedo acelerar porque estoy apagado.\")\n",
    "\n",
    "    def frenar(self, velocidad):\n",
    "        if self.encendido:\n",
    "            nueva_velocidad = self.velocidad_actual - velocidad\n",
    "            if nueva_velocidad < 0:\n",
    "                self.velocidad_actual = 0\n",
    "            else:\n",
    "                self.velocidad_actual = nueva_velocidad\n",
    "            print(f\"Mi nueva velocidad es {self.velocidad_actual} km/h\")\n",
    "        else:\n",
    "            print(\"No puedo frenar porque estoy apagado.\")        \n",
    "\n",
    "    def detener(self):\n",
    "        if self.encendido:\n",
    "            while self.velocidad_actual > 0:\n",
    "                self.frenar(5) # Hago decrementos de velocidad de 5km/h hasta que el vehículo se detenga\n",
    "        else:\n",
    "            print(\"No puedo detenerme porque no estoy encendido\")\n",
    "\n",
    "    def informacion (self):\n",
    "        print(\"Entro en el metodo informacion () de Vehiculo\")\n",
    "        return (f\"Mi marca es {self.marca}. Mi modelo es {self.modelo}. Mi año es {self.anyo}\")\n",
    "    \n",
    "vehiculo1 = Vehiculo(\"Opel\", \"Vectra\", 2014)\n",
    "vehiculo1.apagar()\n",
    "vehiculo1.encender()\n",
    "vehiculo1.acelerar(100)\n",
    "vehiculo1.frenar(50)\n",
    "vehiculo1.detener()\n",
    "vehiculo1.apagar()\n",
    "vehiculo1.informacion()\n",
    "\n"
   ]
  },
  {
   "cell_type": "markdown",
   "metadata": {},
   "source": [
    "Crea la subclase Coche que hereda de la clase base Vehiculo y representa un coche específico. Además de los atributos y métodos heredados, la clase Coche tiene un atributo adicional:\n",
    "\n",
    "\n",
    "- **Atributos:**\n",
    "    - combustible: Una cadena que representa el tipo de combustible que utiliza el coche.\n",
    "\n",
    "- **Métodos:**\n",
    "\n",
    "    - `__init__(self, marca, modelo, año, combustible)`: Constructor que inicializa los atributos de la clase base y el atributo específico del coche.\n",
    "    \n",
    "    - `informacion(self)`: Devuelve una cadena con la información del coche, incluyendo la marca, el modelo, el año y el tipo de combustible.\n",
    "\n"
   ]
  },
  {
   "cell_type": "code",
   "execution_count": 37,
   "metadata": {},
   "outputs": [],
   "source": [
    "class Coche (Vehiculo):\n",
    "    def __init__(self, marca, modelo, anyo, combustible):\n",
    "        super().__init__(marca, modelo, anyo)\n",
    "        self.combustible = combustible\n",
    "\n",
    "    def informacion (self):\n",
    "        print(\"Redefino el metodo informacion de Coche\")\n",
    "        informe = (f\"Mi marca es {self.marca}. Mi modelo es {self.modelo}. Mi año es {self.anyo}. Mi combustible es {self.combustible}\")\n",
    "        return informe\n",
    "   \n"
   ]
  },
  {
   "cell_type": "code",
   "execution_count": 38,
   "metadata": {},
   "outputs": [
    {
     "name": "stdout",
     "output_type": "stream",
     "text": [
      "Redefino el metodo informacion de Coche\n",
      "Entro en el metodo informacion () de Vehiculo\n",
      "mi_informe_vehiculo1 = Mi marca es Opel. Mi modelo es Vectra. Mi año es 2014\n",
      "mi_informe_coche2 = Mi marca es Seat. Mi modelo es León. Mi año es 2024. Mi combustible es diesel\n",
      "¿Es hija de Vehiculo? True\n"
     ]
    }
   ],
   "source": [
    "vehiculo1 = Vehiculo(\"Opel\", \"Vectra\", 2014)\n",
    "coche2 = Coche(\"Seat\", \"León\", 2024, \"diesel\")\n",
    "\n",
    "mi_informe_coche2 = coche2.informacion()\n",
    "mi_informe_vehiculo1 = vehiculo1.informacion()\n",
    "\n",
    "print (\"mi_informe_vehiculo1 =\", mi_informe_vehiculo1)\n",
    "print (\"mi_informe_coche2 =\", mi_informe_coche2)\n",
    "\n",
    "yes = isinstance(coche2, Vehiculo)\n",
    "print(f\"¿Es hija de Vehiculo? {yes}\")"
   ]
  }
 ],
 "metadata": {
  "kernelspec": {
   "display_name": "base",
   "language": "python",
   "name": "python3"
  },
  "language_info": {
   "codemirror_mode": {
    "name": "ipython",
    "version": 3
   },
   "file_extension": ".py",
   "mimetype": "text/x-python",
   "name": "python",
   "nbconvert_exporter": "python",
   "pygments_lexer": "ipython3",
   "version": "3.12.4"
  }
 },
 "nbformat": 4,
 "nbformat_minor": 2
}
