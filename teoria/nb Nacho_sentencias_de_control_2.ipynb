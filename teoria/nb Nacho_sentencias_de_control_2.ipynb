{
 "cells": [
  {
   "cell_type": "markdown",
   "metadata": {},
   "source": [
    "# Bucles for\n",
    "\n",
    "En Python, un bucle `for` se utiliza para **ITERAR** sobre una secuencia de elementos, como una lista, una tupla, un diccionario o un conjunto, y realizar una acción en cada uno de ellos.\n",
    "\n",
    "```python\n",
    "for elemento in secuencia:\n",
    "    # hacer algo con el elemento\n",
    "```\n",
    "\n",
    "Donde: \n",
    "\n",
    "- `elemento`: será cada elemento de nuestro iterable. Lo podemos llamar elemento, i, brocoli o como queramos! \n",
    "\n",
    "- `secuencia`: será el elemento iterable(lista, tupla, diccionario, set, etc.) sobre el que queremos aplicar el `for`"
   ]
  },
  {
   "cell_type": "markdown",
   "metadata": {},
   "source": [
    "Como dijimos, el ciclo FOR nos sirve para ITERAR, es decir recorrer los elementos de una estructura de datos, para aplicar algun tipo de accion."
   ]
  },
  {
   "cell_type": "markdown",
   "metadata": {},
   "source": [
    "# valores numericos."
   ]
  },
  {
   "cell_type": "code",
   "execution_count": 6,
   "metadata": {},
   "outputs": [
    {
     "name": "stdout",
     "output_type": "stream",
     "text": [
      "10\n",
      "20\n",
      "30\n",
      "40\n"
     ]
    }
   ],
   "source": [
    "# hagamos un ejemplo con una lista y la vamos a ITERAR!\n",
    "\n",
    "lista = [10,20,30,40]\n",
    "\n",
    "for i in lista:\n",
    "    print(i)"
   ]
  },
  {
   "cell_type": "code",
   "execution_count": 7,
   "metadata": {},
   "outputs": [
    {
     "data": {
      "text/plain": [
       "[1000, 2000, 3000, 4000]"
      ]
     },
     "execution_count": 7,
     "metadata": {},
     "output_type": "execute_result"
    }
   ],
   "source": [
    "# hagamos un simple ejercicio de \"recorer\" los elementos de una estructura iterable PERO ESTA VEZ APLICANDO ALGUNA ACCION...\n",
    "\n",
    "lista = [10,20,30,40]\n",
    "suma1 = []\n",
    "\n",
    "for i in lista:\n",
    "    suma = i * 100\n",
    "    suma1.append(suma)\n",
    "    \n",
    "suma1"
   ]
  },
  {
   "cell_type": "code",
   "execution_count": 9,
   "metadata": {},
   "outputs": [
    {
     "name": "stdout",
     "output_type": "stream",
     "text": [
      "El número al que estamos accediendo es 10\n",
      "El número al que estamos accediendo es 20\n",
      "El número al que estamos accediendo es 30\n",
      "El número al que estamos accediendo es 40\n"
     ]
    },
    {
     "data": {
      "text/plain": [
       "[10, 30, 60, 100]"
      ]
     },
     "execution_count": 9,
     "metadata": {},
     "output_type": "execute_result"
    }
   ],
   "source": [
    "# propongo un ejercicio! se animan a sumar los numeros de esa lista? necesito que en cada iteracion, se sume el elemento actual con el \n",
    "# numero anterior y asi sucesivamente!\n",
    "\n",
    "lista = [10,20,30,40]\n",
    "acumulado = 0\n",
    "numeros_sumados = []\n",
    "\n",
    "for i in lista:\n",
    "    print(f\"El número al que estamos accediendo es {i}\")\n",
    "\n",
    "    suma = acumulado + i\n",
    "    numeros_sumados.append(suma)\n",
    "\n",
    "    acumulado = suma\n",
    "\n",
    "numeros_sumados"
   ]
  },
  {
   "cell_type": "markdown",
   "metadata": {},
   "source": [
    "Yo se que son curiosas! y seguramente quieren tambien los valores de los indices de los elementos que estamos recorriendo...existe alguna forma? LES PRESENTO A ENUMERATE!\n",
    "\n",
    "\n",
    "**Es una función en Python que agrega un índice a cada elemento de una lista o iterable.**\n",
    "\n",
    "### Qué hace:\n",
    "\n",
    "    **Devuelve un iterador que produce pares (índice, valor) para cada elemento en el iterable.**"
   ]
  },
  {
   "cell_type": "code",
   "execution_count": 10,
   "metadata": {},
   "outputs": [
    {
     "name": "stdout",
     "output_type": "stream",
     "text": [
      "Índice: 0, Valor original: 10, Valor + 100: 110\n",
      "Índice: 1, Valor original: 20, Valor + 100: 120\n",
      "Índice: 2, Valor original: 30, Valor + 100: 130\n",
      "Índice: 3, Valor original: 40, Valor + 100: 140\n"
     ]
    }
   ],
   "source": [
    "# OK veamos como usarlo entonces!\n",
    "\n",
    "lista = [10, 20, 30, 40]\n",
    "\n",
    "for indice, valor in enumerate(lista):\n",
    "    nuevo_valor = valor + 100\n",
    "    print(f\"Índice: {indice}, Valor original: {valor}, Valor + 100: {nuevo_valor}\")"
   ]
  },
  {
   "cell_type": "code",
   "execution_count": 11,
   "metadata": {},
   "outputs": [
    {
     "name": "stdout",
     "output_type": "stream",
     "text": [
      "Valores menores a 125: [110, 120]\n",
      "Valores mayores o iguales a 125: [130, 140]\n"
     ]
    }
   ],
   "source": [
    "# sabemos ya usar el IF, que es un condicional...hagamos una lista con numeros mayores o iguales a 125 y menores a 125...se animan?\n",
    "\n",
    "lista = [10, 20, 30, 40]\n",
    "\n",
    "menores_a_125 = []\n",
    "mayores_o_iguales_a_125 = []\n",
    "\n",
    "for indice, valor in enumerate(lista):\n",
    "    nuevo_valor = valor + 100\n",
    "    \n",
    "    if nuevo_valor < 125:\n",
    "        menores_a_125.append(nuevo_valor)\n",
    "    else:\n",
    "        mayores_o_iguales_a_125.append(nuevo_valor)\n",
    "\n",
    "\n",
    "print(\"Valores menores a 125:\", menores_a_125)\n",
    "print(\"Valores mayores o iguales a 125:\", mayores_o_iguales_a_125)"
   ]
  },
  {
   "cell_type": "markdown",
   "metadata": {},
   "source": [
    "# Cadena de caracteres"
   ]
  },
  {
   "cell_type": "code",
   "execution_count": 12,
   "metadata": {},
   "outputs": [
    {
     "ename": "AttributeError",
     "evalue": "'str' object has no attribute 'append'",
     "output_type": "error",
     "traceback": [
      "\u001b[1;31m---------------------------------------------------------------------------\u001b[0m",
      "\u001b[1;31mAttributeError\u001b[0m                            Traceback (most recent call last)",
      "Cell \u001b[1;32mIn[12], line 7\u001b[0m\n\u001b[0;32m      4\u001b[0m nueva_frase \u001b[38;5;241m=\u001b[39m \u001b[38;5;124m\"\u001b[39m\u001b[38;5;124m\"\u001b[39m\n\u001b[0;32m      6\u001b[0m \u001b[38;5;28;01mfor\u001b[39;00m i \u001b[38;5;129;01min\u001b[39;00m frase:\n\u001b[1;32m----> 7\u001b[0m     \u001b[43mnueva_frase\u001b[49m\u001b[38;5;241;43m.\u001b[39;49m\u001b[43mappend\u001b[49m(i\u001b[38;5;241m.\u001b[39mupper())\n\u001b[0;32m      9\u001b[0m nueva_frase\n",
      "\u001b[1;31mAttributeError\u001b[0m: 'str' object has no attribute 'append'"
     ]
    }
   ],
   "source": [
    "# como dijimos, podemos aplicar esto a elemento ITERABLES...una cadena de caracteres es un elemento iterable??\n",
    "\n",
    "frase = \"las alumnas saben progaraman\"\n",
    "nueva_frase = \"\"\n",
    "\n",
    "for i in frase:\n",
    "    nueva_frase.append(i.upper())\n",
    "    \n",
    "nueva_frase"
   ]
  },
  {
   "cell_type": "markdown",
   "metadata": {},
   "source": [
    "ups! un error!! recordemos de leer los mensajes de error! nos da un indicio de que hicimos mal y poder corregirlo! en este caso el metodo append no se puede aplicar a un string! definimos a nueva_frase como str!"
   ]
  },
  {
   "cell_type": "code",
   "execution_count": 13,
   "metadata": {},
   "outputs": [
    {
     "data": {
      "text/plain": [
       "['L',\n",
       " 'A',\n",
       " 'S',\n",
       " ' ',\n",
       " 'A',\n",
       " 'L',\n",
       " 'U',\n",
       " 'M',\n",
       " 'N',\n",
       " 'A',\n",
       " 'S',\n",
       " ' ',\n",
       " 'S',\n",
       " 'A',\n",
       " 'B',\n",
       " 'E',\n",
       " 'N',\n",
       " ' ',\n",
       " 'P',\n",
       " 'R',\n",
       " 'O',\n",
       " 'G',\n",
       " 'A',\n",
       " 'R',\n",
       " 'A',\n",
       " 'M',\n",
       " 'A',\n",
       " 'N']"
      ]
     },
     "execution_count": 13,
     "metadata": {},
     "output_type": "execute_result"
    }
   ],
   "source": [
    "# para rreglar esto hay varias opciones...la primera es cambiar nueva_frase por un tipo list...ver abajo\n",
    "\n",
    "frase = \"las alumnas saben progaraman\"\n",
    "nueva_frase = []\n",
    "for i in frase:\n",
    "    nueva_frase.append(i.upper())\n",
    "    \n",
    "nueva_frase"
   ]
  },
  {
   "cell_type": "code",
   "execution_count": 14,
   "metadata": {},
   "outputs": [
    {
     "name": "stdout",
     "output_type": "stream",
     "text": [
      "LAS ALUMNAS SABEN PROGARAMAN\n"
     ]
    }
   ],
   "source": [
    "# ya tenemos nuestras mayusuclas...pero un poco desordenadas...si recordamos el metodo join podriamos unir esos caracteres en la variable nueva_frase_str\n",
    "\n",
    "nueva_frase_str = ''.join(nueva_frase)\n",
    "print(nueva_frase_str)"
   ]
  },
  {
   "cell_type": "code",
   "execution_count": 15,
   "metadata": {},
   "outputs": [
    {
     "data": {
      "text/plain": [
       "'LAS ALUMNAS SABEN PROGARAMAN'"
      ]
     },
     "execution_count": 15,
     "metadata": {},
     "output_type": "execute_result"
    }
   ],
   "source": [
    "# pero tambien hay otra opcion! simplemente \"sumando\" cada uno de mis caracteres a mi variable nueva_frase del tipo string\n",
    "\n",
    "frase = \"las alumnas saben progaraman\"\n",
    "nueva_frase = \"\"\n",
    "\n",
    "for i in frase:\n",
    "    nueva_frase += i.upper()\n",
    "\n",
    "nueva_frase"
   ]
  },
  {
   "cell_type": "markdown",
   "metadata": {},
   "source": [
    "Algo importante....enumerate no es propio de listas con numeros...veamos un ejemplo de una lista con palabras."
   ]
  },
  {
   "cell_type": "code",
   "execution_count": 65,
   "metadata": {},
   "outputs": [
    {
     "name": "stdout",
     "output_type": "stream",
     "text": [
      "en la posicion 0 esta la alumna jacinta\n",
      "en la posicion 1 esta la alumna romina\n",
      "en la posicion 2 esta la alumna juliana\n",
      "en la posicion 3 esta la alumna carla\n",
      "en la posicion 4 esta la alumna valentina\n"
     ]
    }
   ],
   "source": [
    "nombres = [\"jacinta\", \"romina\", \"juliana\", \"carla\", \"valentina\"]\n",
    "\n",
    "for posicion, nombre in enumerate(nombres):\n",
    "    print(f\"en la posicion {posicion} esta la alumna {nombre}\")"
   ]
  },
  {
   "cell_type": "markdown",
   "metadata": {},
   "source": [
    "..incluso PODRIAMOS DECIRLE A PYTHON QUE CONSIDERE EL NUMERO DE LA PRIMERA POSICION COMO 15 U OTRO NUMERO QUE ELIJAMOS!"
   ]
  },
  {
   "cell_type": "code",
   "execution_count": 66,
   "metadata": {},
   "outputs": [
    {
     "name": "stdout",
     "output_type": "stream",
     "text": [
      "En la posición 15 está la alumna jacinta\n",
      "En la posición 16 está la alumna romina\n",
      "En la posición 17 está la alumna juliana\n",
      "En la posición 18 está la alumna carla\n",
      "En la posición 19 está la alumna valentina\n"
     ]
    }
   ],
   "source": [
    "nombres = [\"jacinta\", \"romina\", \"juliana\", \"carla\", \"valentina\"]\n",
    "\n",
    "for posicion, nombre in enumerate(nombres, start=15): # Fijense, aca estamos declarando que el inicio de mi enumerate sera el 15\n",
    "    print(f\"En la posición {posicion} está la alumna {nombre}\")"
   ]
  },
  {
   "cell_type": "markdown",
   "metadata": {},
   "source": [
    "muy lindo...pero si quiero que esas posiciones que asigna el enumerate sea desde un valor que elijo y ademas se incremente de a 3????"
   ]
  },
  {
   "cell_type": "code",
   "execution_count": 68,
   "metadata": {},
   "outputs": [
    {
     "name": "stdout",
     "output_type": "stream",
     "text": [
      "En la posición 15 está la alumna jacinta\n",
      "En la posición 18 está la alumna romina\n",
      "En la posición 21 está la alumna juliana\n",
      "En la posición 24 está la alumna carla\n",
      "En la posición 27 está la alumna valentina\n"
     ]
    }
   ],
   "source": [
    "nombres = [\"jacinta\", \"romina\", \"juliana\", \"carla\", \"valentina\"]\n",
    "\n",
    "inicio = 15\n",
    "incremento = 3\n",
    "\n",
    "\n",
    "for posicion, nombre in enumerate(nombres):\n",
    "    \n",
    "    posicion1 = inicio + posicion * incremento\n",
    "    print(f\"En la posición {posicion1} está la alumna {nombre}\")"
   ]
  },
  {
   "cell_type": "markdown",
   "metadata": {},
   "source": [
    "Stop! me parece que es buen momento para aprender algo nuevo...algo que nos puede servir en el futuro..el metodo RANGE!\n",
    "\n",
    "Para que sirve? para GENERAR UNA SECUENCIA DE NUMEROS ENTEROS y se puede utilizar en bucles FOR o para crear una lista de numeros.\n",
    "\n",
    "sintaxis\n",
    "\n",
    "```python\n",
    "range(start, stop, step)\n",
    "\n",
    "```\n",
    "\n",
    "Donde:\n",
    "\n",
    "- `start`: Es el número inicial de la secuencia (inclusive). Por defecto, el valor de start es 0.\n",
    "\n",
    "- `stop`: Es el número final de la secuencia (exclusivo). Es decir, la secuencia terminará en stop-1. Este parámetro es obligatorio.\n",
    "\n",
    "- `step`: Es el incremento que se utilizará para generar los números de la secuencia. Por defecto, el valor de step es 1."
   ]
  },
  {
   "cell_type": "code",
   "execution_count": 1,
   "metadata": {},
   "outputs": [
    {
     "data": {
      "text/plain": [
       "range"
      ]
     },
     "execution_count": 1,
     "metadata": {},
     "output_type": "execute_result"
    }
   ],
   "source": [
    "# range por si solo nos devuele un objeto del tipo range...tener esto en cuenta cuando necesitemos esos valores como una lista\n",
    "\n",
    "numeros = range(1,5)\n",
    "\n",
    "type(numeros)"
   ]
  },
  {
   "cell_type": "code",
   "execution_count": 2,
   "metadata": {},
   "outputs": [
    {
     "data": {
      "text/plain": [
       "[1, 2, 3, 4]"
      ]
     },
     "execution_count": 2,
     "metadata": {},
     "output_type": "execute_result"
    }
   ],
   "source": [
    "# podriamos pasar los valores de esa variable que contiene un range usando el metodo list\n",
    "\n",
    "numeros = list(numeros)\n",
    "\n",
    "numeros"
   ]
  },
  {
   "cell_type": "code",
   "execution_count": 19,
   "metadata": {},
   "outputs": [
    {
     "name": "stdout",
     "output_type": "stream",
     "text": [
      "10\n",
      "11\n",
      "12\n",
      "13\n",
      "14\n",
      "15\n",
      "16\n",
      "17\n",
      "18\n",
      "19\n"
     ]
    }
   ],
   "source": [
    "# generemos un par de numeros en secuencia\n",
    "\n",
    "numeros = range(10,20)\n",
    "\n",
    "for i in numeros:\n",
    "    print(i)"
   ]
  },
  {
   "cell_type": "code",
   "execution_count": 21,
   "metadata": {},
   "outputs": [
    {
     "data": {
      "text/plain": [
       "[10, 11, 12, 13, 14, 15, 16, 17, 18, 19]"
      ]
     },
     "execution_count": 21,
     "metadata": {},
     "output_type": "execute_result"
    }
   ],
   "source": [
    "# generemos un par de numeros en secuencia...y los agregamos a una lista!\n",
    "\n",
    "numeros = range(10,20)\n",
    "nueva_lista = []\n",
    "\n",
    "for i in numeros:\n",
    "    nueva_lista.append(i)\n",
    "    \n",
    "nueva_lista"
   ]
  },
  {
   "cell_type": "code",
   "execution_count": 22,
   "metadata": {},
   "outputs": [
    {
     "data": {
      "text/plain": [
       "[10, 13, 16, 19]"
      ]
     },
     "execution_count": 22,
     "metadata": {},
     "output_type": "execute_result"
    }
   ],
   "source": [
    "# generemos un par de numeros en secuencia...y los agregamos a una lista!...con saltos de a 3, ya que range me lo permite (recordar la regla START:STOP:STEP)\n",
    "\n",
    "numeros = range(10,20,3)\n",
    "nueva_lista = []\n",
    "\n",
    "for i in numeros:\n",
    "    nueva_lista.append(i)\n",
    "    \n",
    "nueva_lista"
   ]
  },
  {
   "cell_type": "markdown",
   "metadata": {},
   "source": [
    "# Diccionarios"
   ]
  },
  {
   "cell_type": "markdown",
   "metadata": {},
   "source": [
    "Antes de comenzar...recordamos como estaban compuestos los diccionarios??\n",
    "\n",
    "* Claves\n",
    "* valores"
   ]
  },
  {
   "cell_type": "code",
   "execution_count": 72,
   "metadata": {},
   "outputs": [
    {
     "name": "stdout",
     "output_type": "stream",
     "text": [
      "jacinta\n",
      "romina\n",
      "juliana\n",
      "valentina\n",
      "carla\n"
     ]
    }
   ],
   "source": [
    "# creando un diccionario simple...\n",
    "\n",
    "notas = {\"jacinta\":7,\n",
    "         \"romina\":6,\n",
    "         \"juliana\":8,\n",
    "         \"valentina\":9,\n",
    "         \"carla\":10}\n",
    "\n",
    "for i in notas:\n",
    "    print(i)"
   ]
  },
  {
   "cell_type": "markdown",
   "metadata": {},
   "source": [
    "Ok...Al usar el ciclo for en un diccionario, que sabemos que es iterable, nos trae el valor de sus claves...pero si necesitos simplemente sus valores???"
   ]
  },
  {
   "cell_type": "code",
   "execution_count": 71,
   "metadata": {},
   "outputs": [
    {
     "name": "stdout",
     "output_type": "stream",
     "text": [
      "7\n",
      "6\n",
      "8\n",
      "9\n",
      "10\n"
     ]
    }
   ],
   "source": [
    "# accediendo a valores\n",
    "\n",
    "notas = {\"jacinta\":7,\n",
    "         \"romina\":6,\n",
    "         \"juliana\":8,\n",
    "         \"valentina\":9,\n",
    "         \"carla\":10}\n",
    "\n",
    "for i in notas.values():\n",
    "    print(i)"
   ]
  },
  {
   "cell_type": "code",
   "execution_count": 70,
   "metadata": {},
   "outputs": [
    {
     "data": {
      "text/plain": [
       "[7, 6, 8, 9, 10]"
      ]
     },
     "execution_count": 70,
     "metadata": {},
     "output_type": "execute_result"
    }
   ],
   "source": [
    "# guardamos los valores de mis valores en una variable\n",
    "\n",
    "notas = {\"jacinta\":7,\n",
    "         \"romina\":6,\n",
    "         \"juliana\":8,\n",
    "         \"valentina\":9,\n",
    "         \"carla\":10}\n",
    "\n",
    "notas_totales = []\n",
    "\n",
    "for i in notas.values():\n",
    "    notas_totales.append(i)\n",
    "    \n",
    "notas_totales"
   ]
  },
  {
   "cell_type": "code",
   "execution_count": 74,
   "metadata": {},
   "outputs": [
    {
     "name": "stdout",
     "output_type": "stream",
     "text": [
      "la alumna jacinta obtuvo un 7 en la clase de Python\n",
      "la alumna romina obtuvo un 6 en la clase de Python\n",
      "la alumna juliana obtuvo un 8 en la clase de Python\n",
      "la alumna valentina obtuvo un 9 en la clase de Python\n",
      "la alumna carla obtuvo un 10 en la clase de Python\n"
     ]
    }
   ],
   "source": [
    "# recuerdan el ENUMARATE? VOLVIO!!! en fomra de .items()\n",
    "\n",
    "notas = {\"jacinta\":7,\n",
    "         \"romina\":6,\n",
    "         \"juliana\":8,\n",
    "         \"valentina\":9,\n",
    "         \"carla\":10}\n",
    "\n",
    "for clave, valor in notas.items():\n",
    "    print(f\"la alumna {clave} obtuvo un {valor} en la clase de Python\")"
   ]
  },
  {
   "cell_type": "markdown",
   "metadata": {},
   "source": [
    "Esto significa que pòdria sacar ambos valores para guardarlos en una lista segun corresponda? pues eso parece...veamos!"
   ]
  },
  {
   "cell_type": "code",
   "execution_count": 4,
   "metadata": {},
   "outputs": [
    {
     "name": "stdout",
     "output_type": "stream",
     "text": [
      "Mis nombres son ['jacinta', 'romina', 'juliana', 'valentina', 'carla']\n",
      "Mis valores son [7, 6, 8, 9, 10]\n"
     ]
    }
   ],
   "source": [
    "notas = {\"jacinta\":7,\n",
    "         \"romina\":6,\n",
    "         \"juliana\":8,\n",
    "         \"valentina\":9,\n",
    "         \"carla\":10}\n",
    "\n",
    "nombres=[]\n",
    "valores=[]\n",
    "\n",
    "for clave, valor in notas.items():\n",
    "    nombres.append(clave)\n",
    "    valores.append(valor)\n",
    "\n",
    "print(f\"Mis nombres son {nombres}\")\n",
    "print(f\"Mis valores son {valores}\")"
   ]
  },
  {
   "cell_type": "markdown",
   "metadata": {},
   "source": [
    "# List comprehension"
   ]
  },
  {
   "cell_type": "markdown",
   "metadata": {},
   "source": [
    "Para este ejercicio, vamos a aplicar lo que ya sabemos de RANGE en un ciclo FOR...elevemos al cuadrado los numeros del 1 al 4 inclusive y los guardamos en una lista"
   ]
  },
  {
   "cell_type": "code",
   "execution_count": 75,
   "metadata": {},
   "outputs": [
    {
     "data": {
      "text/plain": [
       "[1, 4, 9, 16]"
      ]
     },
     "execution_count": 75,
     "metadata": {},
     "output_type": "execute_result"
    }
   ],
   "source": [
    "lista = []\n",
    "\n",
    "for i in range(1,5):\n",
    "    lista.append(i**2)\n",
    "\n",
    "lista"
   ]
  },
  {
   "cell_type": "markdown",
   "metadata": {},
   "source": [
    "Para el caso de list comprehension seguiremos la siguiente sintaxis... \n",
    "\n",
    "* el codigo esta entre corchetes, apuntando a la variable donde se guarda.\n",
    "* primero armamos el ciclo for con su iterable.\n",
    "* segundo, a la izquierda del punto anterior colocamos que queremos obtener.\n",
    "* tercero y opcional, las condiciones que se quieran cumplir iran a la derecha del primer punto."
   ]
  },
  {
   "cell_type": "code",
   "execution_count": 30,
   "metadata": {},
   "outputs": [
    {
     "data": {
      "text/plain": [
       "[1, 4, 9, 16]"
      ]
     },
     "execution_count": 30,
     "metadata": {},
     "output_type": "execute_result"
    }
   ],
   "source": [
    "lista1 = [i**2 for i in range(1,5)]\n",
    "\n",
    "lista1"
   ]
  },
  {
   "cell_type": "markdown",
   "metadata": {},
   "source": [
    "bien...en este caso no habia un condicional...pero podemos agregarlo..lo vemos de las 2 formas, la tardicional y a la \"list comprehension\""
   ]
  },
  {
   "cell_type": "code",
   "execution_count": 76,
   "metadata": {},
   "outputs": [
    {
     "data": {
      "text/plain": [
       "[1, 4]"
      ]
     },
     "execution_count": 76,
     "metadata": {},
     "output_type": "execute_result"
    }
   ],
   "source": [
    "# forma \"tradicional\"\n",
    "\n",
    "lista2 = []\n",
    "\n",
    "for i in range(1,5):\n",
    "    if i < 3:\n",
    "        lista2.append(i**2)\n",
    "\n",
    "lista2"
   ]
  },
  {
   "cell_type": "code",
   "execution_count": 5,
   "metadata": {},
   "outputs": [
    {
     "data": {
      "text/plain": [
       "[1, 4]"
      ]
     },
     "execution_count": 5,
     "metadata": {},
     "output_type": "execute_result"
    }
   ],
   "source": [
    "# forma \"list comprehension\"\n",
    "\n",
    "lista3 = [i**2 for i in range(1,5) if i < 3]\n",
    "\n",
    "lista3"
   ]
  },
  {
   "cell_type": "markdown",
   "metadata": {},
   "source": [
    "En el siguiente ejercicio se plantea que en una lista de nombres podemos seprar las alumnas con nombres cortos (menor o igual a 6 caracteres) de las de nombre largo"
   ]
  },
  {
   "cell_type": "code",
   "execution_count": 6,
   "metadata": {},
   "outputs": [
    {
     "name": "stdout",
     "output_type": "stream",
     "text": [
      "La lista 'palabras_filtro' contiene: ['palabra larga', 'palabra corta', 'palabra larga', 'palabra corta', 'palabra larga']\n"
     ]
    }
   ],
   "source": [
    "nombres = [\"jacinta\", \"romina\", \"juliana\", \"carla\", \"valentina\"]\n",
    "\n",
    "palabras_filtro = []\n",
    "\n",
    "for i in nombres:\n",
    "    if len(i) <= 6:\n",
    "        palabras_filtro.append(\"palabra corta\") \n",
    "    else:\n",
    "        palabras_filtro.append(\"palabra larga\")\n",
    "\n",
    "print(\"La lista 'palabras_filtro' contiene:\", palabras_filtro)"
   ]
  },
  {
   "cell_type": "markdown",
   "metadata": {},
   "source": [
    "En este caso OJO, ya que cambia un poco como se entiende la list comprehension ya que tenemos mas de una condicion!!"
   ]
  },
  {
   "cell_type": "code",
   "execution_count": 79,
   "metadata": {},
   "outputs": [
    {
     "name": "stdout",
     "output_type": "stream",
     "text": [
      "La lista 'palabras_filtro' contiene: ['palabra larga', 'palabra corta', 'palabra larga', 'palabra corta', 'palabra larga']\n"
     ]
    }
   ],
   "source": [
    "nombres = [\"jacinta\", \"romina\", \"juliana\", \"carla\", \"valentina\"]\n",
    "\n",
    "palabras_filtro = [\"palabra corta\" if len(i) <= 6 else \"palabra larga\" for i in nombres ]\n",
    "print(\"La lista 'palabras_filtro' contiene:\", palabras_filtro)"
   ]
  },
  {
   "cell_type": "code",
   "execution_count": 80,
   "metadata": {},
   "outputs": [
    {
     "name": "stdout",
     "output_type": "stream",
     "text": [
      "['jacinta', 'romina', 'juliana', 'CARLA', 'Valentina']\n"
     ]
    }
   ],
   "source": [
    "# ahora nos ponemos mas estrictas! \n",
    "# los nombres con 5 o menos letras seran en mayuculas\n",
    "# entre 5 y 7 letras en minuscula\n",
    "# mas de 7 letras a capitalize\n",
    "\n",
    "nombres = [\"jacinta\", \"romina\", \"juliana\", \"carla\", \"valentina\"]\n",
    "\n",
    "resultado = [p.upper() if len(p) <= 5 else p.lower() if len(p) <= 7 else p.capitalize() for p in nombres]\n",
    "\n",
    "print(resultado)"
   ]
  },
  {
   "cell_type": "code",
   "execution_count": null,
   "metadata": {},
   "outputs": [],
   "source": [
    "# si lo anterior fuese a la forma tradicional...\n",
    "\n",
    "nombres = [\"jacinta\", \"romina\", \"juliana\", \"carla\", \"valentina\"]\n",
    "\n",
    "resultado = []\n",
    "\n",
    "for p in nombres:\n",
    "    if len(p) <= 5:\n",
    "        resultado.append(p.upper())\n",
    "    elif len(p) <= 7:\n",
    "        resultado.append(p.lower())\n",
    "    else:\n",
    "        resultado.append(p.capitalize())\n",
    "\n",
    "print(resultado)"
   ]
  },
  {
   "cell_type": "markdown",
   "metadata": {},
   "source": [
    "Que nos enseña esto? que si bien es buena practica simplificar el codigo con list comprehension, no siempre sera la mejor opcion, ya que el ultimo que vimos se ve un poco confuso!"
   ]
  },
  {
   "cell_type": "markdown",
   "metadata": {},
   "source": [
    "---"
   ]
  },
  {
   "cell_type": "markdown",
   "metadata": {},
   "source": [
    "# Control de bucles."
   ]
  },
  {
   "cell_type": "markdown",
   "metadata": {},
   "source": [
    "Nuestras palabras magicas para el control de bucles seran...\n",
    "\n",
    "    *break --> para salir repentinamente de un bucle antes de que termine de ejecutarse.\n",
    "    *continue  --> para saltar el resto del código en el bucle para la iteración actual y continuar con la siguiente iteración del bucle.\n",
    "    *pass -->  es un marcador de posición que no hace nada."
   ]
  },
  {
   "cell_type": "code",
   "execution_count": 36,
   "metadata": {},
   "outputs": [
    {
     "name": "stdout",
     "output_type": "stream",
     "text": [
      "0\n",
      "1\n",
      "2\n"
     ]
    }
   ],
   "source": [
    "for i in range(6):\n",
    "    if i == 3:\n",
    "        break # sale del bucle y termina la ejecucion\n",
    "    print(i)"
   ]
  },
  {
   "cell_type": "code",
   "execution_count": 37,
   "metadata": {},
   "outputs": [
    {
     "name": "stdout",
     "output_type": "stream",
     "text": [
      "0\n",
      "1\n",
      "2\n",
      "4\n",
      "5\n"
     ]
    }
   ],
   "source": [
    "for i in range(6):\n",
    "    if i == 3:\n",
    "        continue # sale del bucle y continua la ejecucion con el siguiente iterable\n",
    "    print(i)"
   ]
  },
  {
   "cell_type": "code",
   "execution_count": 38,
   "metadata": {},
   "outputs": [
    {
     "name": "stdout",
     "output_type": "stream",
     "text": [
      "1\n",
      "3\n",
      "5\n"
     ]
    }
   ],
   "source": [
    "for i in range(6):\n",
    "    if i % 2 == 0:\n",
    "        pass # simplemente es un marcador...no hace nada..pero en funciones y clases tendra importancia!\n",
    "    else:\n",
    "        print(i)"
   ]
  },
  {
   "cell_type": "markdown",
   "metadata": {},
   "source": [
    "# Control de errores."
   ]
  },
  {
   "cell_type": "markdown",
   "metadata": {},
   "source": [
    "Entedamos el \"try\" y \"except\" como un \"intenta\" y \"en caso de error...\"\n",
    "\n",
    "    * try: código que quieres ejecutar y que podría generar una excepción\n",
    "    * except: manejas las excepciones que se producen en el bloque \"try\"\n",
    "    * else: Opcional. Se ejecuta si no se produjo ninguna excepción en el bloque \"try\"\n",
    "    * finally: Opcional. Se ejecuta siempre, haya o no habido excepciones."
   ]
  },
  {
   "cell_type": "code",
   "execution_count": 7,
   "metadata": {},
   "outputs": [
    {
     "ename": "AttributeError",
     "evalue": "'str' object has no attribute 'append'",
     "output_type": "error",
     "traceback": [
      "\u001b[1;31m---------------------------------------------------------------------------\u001b[0m",
      "\u001b[1;31mAttributeError\u001b[0m                            Traceback (most recent call last)",
      "Cell \u001b[1;32mIn[7], line 5\u001b[0m\n\u001b[0;32m      2\u001b[0m nueva_frase \u001b[38;5;241m=\u001b[39m \u001b[38;5;124m\"\u001b[39m\u001b[38;5;124m\"\u001b[39m\n\u001b[0;32m      4\u001b[0m \u001b[38;5;28;01mfor\u001b[39;00m i \u001b[38;5;129;01min\u001b[39;00m frase:\n\u001b[1;32m----> 5\u001b[0m     \u001b[43mnueva_frase\u001b[49m\u001b[38;5;241;43m.\u001b[39;49m\u001b[43mappend\u001b[49m(i\u001b[38;5;241m.\u001b[39mupper())\n",
      "\u001b[1;31mAttributeError\u001b[0m: 'str' object has no attribute 'append'"
     ]
    }
   ],
   "source": [
    "frase = \"las alumnas saben progaraman\"\n",
    "nueva_frase = \"\"\n",
    "\n",
    "for i in frase:\n",
    "    nueva_frase.append(i.upper())\n",
    "   "
   ]
  },
  {
   "cell_type": "markdown",
   "metadata": {},
   "source": [
    "El mismo error que tuvimos antes!!! pero ahora tenemos un arma contra eso....el try y los except!"
   ]
  },
  {
   "cell_type": "code",
   "execution_count": 89,
   "metadata": {},
   "outputs": [
    {
     "name": "stdout",
     "output_type": "stream",
     "text": [
      "no se puede hacer eso!! hay que repasar python!\n"
     ]
    }
   ],
   "source": [
    "frase = \"las alumnas saben progaraman\"\n",
    "nueva_frase = \"\"\n",
    "\n",
    "for i in frase:\n",
    "    try:\n",
    "        nueva_frase.append(i.upper()) # intenta hacer este bloque....en caso de no poder iremos al except\n",
    "    except:\n",
    "        print(\"no se puede hacer eso!! hay que repasar python!\") # si el try no se ejecuto, entonces si lo hara el except con su bloque de codigo\n",
    "        break # miren! un break!!!...pero que hace aca? que pasa si lo sacamos???...intentenlo y vean que sucede!"
   ]
  },
  {
   "cell_type": "markdown",
   "metadata": {},
   "source": [
    "Evidentemente es un manejo de errores general...es decir cuando pase CUALQUIER ERROR entrara en el except...pero puede pasar que nosotras queramos manejar los errores segun el caso!\n",
    "\n",
    "Por ejemplo al intentar dividir, podemos evitar (o mejor dicho manejar) que sucede si el usuario ingresa un cero en el divisor, o ingresa un caracter (letra) en el mismo.\n",
    "\n",
    "Para eso debemos conocer cual es el tipo de error y anticiparnos!"
   ]
  },
  {
   "cell_type": "code",
   "execution_count": 10,
   "metadata": {},
   "outputs": [
    {
     "name": "stdout",
     "output_type": "stream",
     "text": [
      "¡No se puede dividir por cero!\n"
     ]
    }
   ],
   "source": [
    "try:\n",
    "    numero = int(input(\"Ingresa un número para dividirse: \"))\n",
    "    resultado = 100 / numero\n",
    "    print(f\"El resultado de la división es: {resultado}\")\n",
    "    \n",
    "except ZeroDivisionError: # declaro que para este tipo de error se ejecute lo que esta debajo\n",
    "    print(\"¡No se puede dividir por cero!\")\n",
    "    \n",
    "except ValueError: # declaro que para este tipo de error se ejecute lo que esta debajo\n",
    "    print(\"¡Se ingresó un carácter inválido!\")\n",
    "    \n"
   ]
  },
  {
   "cell_type": "markdown",
   "metadata": {},
   "source": [
    "En este punto podemos hacer uso del else y del finally que ambos NO SON OBLIGATORIOS, pero si nos pueden ayudar a dar legibilidad al codigo!!"
   ]
  },
  {
   "cell_type": "code",
   "execution_count": 13,
   "metadata": {},
   "outputs": [
    {
     "name": "stdout",
     "output_type": "stream",
     "text": [
      "¡No se puede dividir por cero!\n",
      "FIN DE LA EJECUCION!!!\n"
     ]
    }
   ],
   "source": [
    "try:\n",
    "    numero = int(input(\"Ingresa un número para dividirse: \"))\n",
    "    resultado = 100 / numero\n",
    "    print(f\"El resultado de la división es: {resultado}\")\n",
    "    \n",
    "except ZeroDivisionError: # declaro que para este tipo de error se ejecute lo que esta debajo\n",
    "    print(\"¡No se puede dividir por cero!\")\n",
    "    \n",
    "except ValueError: # declaro que para este tipo de error se ejecute lo que esta debajo\n",
    "    print(\"¡Se ingresó un carácter inválido!\")\n",
    "\n",
    "else: # se ejecuta si previamente se ejecuto el try sin problemas\n",
    "    print(\"se ejecuto de manera exitosa\")\n",
    "finally: # se ejecuta SIEMPRE sin importar lo que haya sucedido \n",
    "    print(\"FIN DE LA EJECUCION!!!\")"
   ]
  },
  {
   "cell_type": "markdown",
   "metadata": {},
   "source": [
    "Nuestro codigo funciona!!! lo malo es que para volver a usarlo en caso de error haya que volver a ejecutarlo....si tan solo tuvieramos un bucle que se ejecute mientras no cambie su condicion.....WHILE ESTAS AHI???"
   ]
  },
  {
   "cell_type": "code",
   "execution_count": 14,
   "metadata": {},
   "outputs": [
    {
     "name": "stdout",
     "output_type": "stream",
     "text": [
      "¡Se ingresó un carácter inválido! Inténtalo de nuevo.\n",
      "¡Se ingresó un carácter inválido! Inténtalo de nuevo.\n",
      "El resultado de la división es: 14\n"
     ]
    }
   ],
   "source": [
    "while True: # ESTO ME PERMITE EJECUTAR INDEFINIDAMENTE! Por lo que en nuestro codigo debemos tener alguna forma de pararlo en caso de lograr lo que queremos...osea dividir!!!\n",
    "    try:\n",
    "        numero = int(input(\"Ingresa un número para dividirse: \"))\n",
    "        resultado = int(100 / numero)\n",
    "        print(f\"El resultado de la división es: {resultado}\")\n",
    "        break # recuerdan que hace el break? si! si entramos aca y se ejecuta normalmente entonces el break se activara saliendo del ciclo while\n",
    "    \n",
    "    except ZeroDivisionError:\n",
    "        print(\"¡No se puede dividir por cero!\")\n",
    "\n",
    "    except ValueError:\n",
    "        print(\"¡Se ingresó un carácter inválido! Inténtalo de nuevo.\")\n",
    "        \n",
    "# mientras NO se ejecute correctamente el try, se seguira ejecutando el ciclo while"
   ]
  },
  {
   "cell_type": "markdown",
   "metadata": {},
   "source": [
    "# BONUS!!!\n",
    "\n",
    "Sabian que podemos manejar nosotras el mensaje de error que sale en pantalla? utilizando el raise podremos decirle que mostrar para los casos de errores!"
   ]
  },
  {
   "cell_type": "code",
   "execution_count": 15,
   "metadata": {},
   "outputs": [
    {
     "name": "stdout",
     "output_type": "stream",
     "text": [
      "Intento de dividir por cero detectado IMPOSIBLEEEE!!!.\n"
     ]
    }
   ],
   "source": [
    "try:\n",
    "    numero = int(input(\"Ingresa un numero entero para dividirse: \"))\n",
    "\n",
    "    if numero == 0:\n",
    "        raise ZeroDivisionError(\"Intento de dividir por cero detectado IMPOSIBLEEEE!!!.\") # evaluando que numero sea 0, le aviso a python que el mensaje de ZeroDivisionError sera ese\n",
    "    \n",
    "    resultado = 100 / numero\n",
    "    print(f\"El resultado de la division es: {resultado}\")\n",
    "    \n",
    "except ZeroDivisionError as e:\n",
    "    print(e)"
   ]
  },
  {
   "cell_type": "markdown",
   "metadata": {},
   "source": [
    "Pero esto es aplicable a los demas errores!!! como vemos mas abajo!"
   ]
  },
  {
   "cell_type": "code",
   "execution_count": 17,
   "metadata": {},
   "outputs": [
    {
     "name": "stdout",
     "output_type": "stream",
     "text": [
      "Intento de dividir por cero detectado IMPOSIBLEEEE!!!.\n"
     ]
    }
   ],
   "source": [
    "try:\n",
    "    numero = input(\"Ingresa un numero para dividirse: \")\n",
    "    \n",
    "    if not numero.isdigit() or \".\" in numero:\n",
    "        raise ValueError(\"¡Se ingresó un carácter invalido!\") # evaluando que numero sea un caracter o tenga un punto, le aviso a python que el mensaje de ValueError sera ese\n",
    "    \n",
    "    numero = int(numero)\n",
    "    \n",
    "    if numero == 0:\n",
    "        raise ZeroDivisionError(\"Intento de dividir por cero detectado IMPOSIBLEEEE!!!.\")  # evaluando que numero sea 0, le aviso a python que el mensaje de ZeroDivisionError sera ese\n",
    "    \n",
    "    resultado = 100 / numero\n",
    "    print(f\"El resultado de la division es: {resultado}\")\n",
    "    \n",
    "except ZeroDivisionError as e:\n",
    "    print(e)\n",
    "    \n",
    "except ValueError as e:\n",
    "    print(e)"
   ]
  },
  {
   "cell_type": "markdown",
   "metadata": {},
   "source": [
    "Si se quedaron con mas ganas de ver manejo de errores les dejo este bonito [link](https://docs.python.org/es/3/tutorial/errors.html#) a documentacion de Python!\n",
    "\n",
    "Y si quiren explorar un poco de Markdown sin mucha vuelta...entonces este es su [link](https://datosgobar.github.io/portal-andino/markdown-guide/)."
   ]
  }
 ],
 "metadata": {
  "kernelspec": {
   "display_name": "Python 3",
   "language": "python",
   "name": "python3"
  },
  "language_info": {
   "codemirror_mode": {
    "name": "ipython",
    "version": 3
   },
   "file_extension": ".py",
   "mimetype": "text/x-python",
   "name": "python",
   "nbconvert_exporter": "python",
   "pygments_lexer": "ipython3",
   "version": "3.12.3"
  }
 },
 "nbformat": 4,
 "nbformat_minor": 2
}
